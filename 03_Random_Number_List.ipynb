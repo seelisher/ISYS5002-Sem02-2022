{
  "nbformat": 4,
  "nbformat_minor": 0,
  "metadata": {
    "colab": {
      "name": "03_Random Number List.ipynb",
      "provenance": [],
      "collapsed_sections": [
        "rtiCoY2fXsOm"
      ],
      "include_colab_link": true
    },
    "kernelspec": {
      "name": "python3",
      "display_name": "Python 3"
    },
    "language_info": {
      "name": "python"
    }
  },
  "cells": [
    {
      "cell_type": "markdown",
      "metadata": {
        "id": "view-in-github",
        "colab_type": "text"
      },
      "source": [
        "<a href=\"https://colab.research.google.com/github/seelisher/ISYS5002-Sem02-2022/blob/main/03_Random_Number_List.ipynb\" target=\"_parent\"><img src=\"https://colab.research.google.com/assets/colab-badge.svg\" alt=\"Open In Colab\"/></a>"
      ]
    },
    {
      "cell_type": "markdown",
      "source": [
        "## Task 0: Save the notebook to Github"
      ],
      "metadata": {
        "id": "rtiCoY2fXsOm"
      }
    },
    {
      "cell_type": "markdown",
      "source": [
        "## Task 1: Randomly generate numbers and store them in a list"
      ],
      "metadata": {
        "id": "JrutiGpyXUx3"
      }
    },
    {
      "cell_type": "markdown",
      "source": [
        "Generate random numbers"
      ],
      "metadata": {
        "id": "Ksx1ckHCIaxu"
      }
    },
    {
      "cell_type": "code",
      "execution_count": null,
      "metadata": {
        "id": "XaXgvcY-XNE_",
        "colab": {
          "base_uri": "https://localhost:8080/"
        },
        "outputId": "58c86874-62fc-497b-ef9a-6d62cec760ed"
      },
      "outputs": [
        {
          "output_type": "stream",
          "name": "stdout",
          "text": [
            "11\n"
          ]
        }
      ],
      "source": [
        "import random\n",
        "\n",
        "randNum = random.randint(10, 20)\n",
        "print(randNum)\n"
      ]
    },
    {
      "cell_type": "markdown",
      "source": [
        "Determine odd or even number"
      ],
      "metadata": {
        "id": "-HWfUy1TJMFh"
      }
    },
    {
      "cell_type": "code",
      "source": [
        "if randNum % 2 == 0:\n",
        "  print(randNum, \" is an even number\")\n",
        "else:\n",
        "  print(randNum, \"is an odd number\")"
      ],
      "metadata": {
        "colab": {
          "base_uri": "https://localhost:8080/"
        },
        "id": "PCLU3SjJJU6k",
        "outputId": "ef3b7142-fb94-480f-8679-0fe604575824"
      },
      "execution_count": null,
      "outputs": [
        {
          "output_type": "stream",
          "name": "stdout",
          "text": [
            "13 is an odd number\n"
          ]
        }
      ]
    },
    {
      "cell_type": "markdown",
      "source": [
        "Add the rand number to a list"
      ],
      "metadata": {
        "id": "xm_8AFaNKD3V"
      }
    },
    {
      "cell_type": "code",
      "source": [
        "import random\n",
        "\n",
        "randlist = [] #creat an empty list\n",
        "\n",
        "randNum = random.randint(10, 20) #generate a random number\n",
        "\n",
        "randlist.append(randNum)\n",
        "print(randlist)"
      ],
      "metadata": {
        "colab": {
          "base_uri": "https://localhost:8080/"
        },
        "id": "8dV7JXGKKI97",
        "outputId": "a4e11728-baa6-4ae3-e9ef-898e15e13520"
      },
      "execution_count": null,
      "outputs": [
        {
          "output_type": "stream",
          "name": "stdout",
          "text": [
            "[10]\n"
          ]
        }
      ]
    },
    {
      "cell_type": "code",
      "source": [
        "#General and Add five rand numbers into the list\n",
        "\n",
        "import random\n",
        "\n",
        "randlist = [] #creat an empty list\n",
        "\n",
        "for item in range (1,6):\n",
        "  randNum = random.randint(10, 20) #generate a random number\n",
        "  randlist.append(randNum)\n",
        "\n",
        "print(randlist)"
      ],
      "metadata": {
        "colab": {
          "base_uri": "https://localhost:8080/"
        },
        "id": "kwahNP-wKwHU",
        "outputId": "cbb46fc6-5d93-4f64-9a71-3051a4fb8d86"
      },
      "execution_count": null,
      "outputs": [
        {
          "output_type": "stream",
          "name": "stdout",
          "text": [
            "[14, 18, 10, 18, 13]\n"
          ]
        }
      ]
    },
    {
      "cell_type": "code",
      "source": [
        "#Random numbers added to odd or even list\n",
        "import random\n",
        "\n",
        "randlist = [] #creat an empty list\n",
        "evenlist = []\n",
        "oddlist = []\n",
        "\n",
        "for item in range (1,6):\n",
        "  randNum = random.randint(10, 20) #generate a random number\n",
        "  randlist.append(randNum)\n",
        "\n",
        "if randNum % 2 == 0:\n",
        "   evenlist.append(randNum)\n",
        "   #3print(randNum, \" is an even number\")\n",
        "else:\n",
        "   oddlist.append(randNum)\n",
        "   #print(randNum, \"is an odd number\")\n",
        "\n",
        "\n",
        "print(randlist)\n",
        "print(\"The even number list is \", evenlist)\n",
        "print(\"The odd number list is \", oddlist)"
      ],
      "metadata": {
        "colab": {
          "base_uri": "https://localhost:8080/"
        },
        "id": "IYp8xTNYLv7C",
        "outputId": "459b7a55-4600-4e4a-f7ed-be25b038e973"
      },
      "execution_count": null,
      "outputs": [
        {
          "output_type": "stream",
          "name": "stdout",
          "text": [
            "[14, 16, 17, 11, 10]\n",
            "The even number list is  [10]\n",
            "The odd number list is  []\n"
          ]
        }
      ]
    },
    {
      "cell_type": "markdown",
      "source": [
        ""
      ],
      "metadata": {
        "id": "2Ak8TE66M_DS"
      }
    },
    {
      "cell_type": "markdown",
      "source": [
        "## Optional: \n",
        "### Randomly generate numbers and store in two lists: odd and even.\n",
        "### For each list find the minimum, maximum and average\n",
        "\n",
        "可选:\n",
        "随机生成数字并存储在两个列表中:奇数和偶数。\n",
        "对每个列表求最小值、最大值和平均值\n",
        "Min ()， max()和\n",
        "min( ), max() and "
      ],
      "metadata": {
        "id": "zjjcoEONXf23"
      }
    },
    {
      "cell_type": "code",
      "source": [
        "#Random numbers added to odd or even list\n",
        "import random\n",
        "\n",
        "randlist = [] #creat an empty list\n",
        "evenlist = []\n",
        "oddlist = []\n",
        "\n",
        "for item in range (1,6):\n",
        "  randNum = random.randint(10, 20) #generate a random number\n",
        "  randlist.append(randNum)\n",
        "\n",
        "if randNum % 2 == 0:\n",
        "   evenlist.append(randNum)\n",
        "   #3print(randNum, \" is an even number\")\n",
        "else:\n",
        "   oddlist.append(randNum)\n",
        "   #print(randNum, \"is an odd number\")\n",
        "\n",
        "\n",
        "print(randlist)\n",
        "print(\"The even number list is \", evenlist)\n",
        "print(\"The odd number list is \", oddlist)\n",
        "\n",
        "\n",
        "\n",
        "\n",
        "\n"
      ],
      "metadata": {
        "id": "ZduCTWusYA1m",
        "colab": {
          "base_uri": "https://localhost:8080/"
        },
        "outputId": "d214acf8-848d-4ca7-9116-dc11f9dc4632"
      },
      "execution_count": null,
      "outputs": [
        {
          "output_type": "stream",
          "name": "stdout",
          "text": [
            "[16, 19, 16, 13, 14]\n",
            "The even number list is  [14]\n",
            "The odd number list is  []\n"
          ]
        }
      ]
    },
    {
      "cell_type": "code",
      "source": [
        "#Random numbers added to odd or even list\n",
        "import random\n",
        "\n",
        "randlist = [] #creat an empty list\n",
        "evenlist = []\n",
        "oddlist = []\n",
        "\n",
        "for item in range (1,6):\n",
        "  randNum = random.randint(10, 20) #generate a random number\n",
        "  randlist.append(randNum)\n",
        "\n",
        "if randNum % 2 == 0:\n",
        "   evenlist.append(randNum)\n",
        "   #3print(randNum, \" is an even number\")\n",
        "\n",
        "\n",
        "print(randlist)\n",
        "print(\"The even number list is \", evenlist)\n",
        "\n",
        "if randNum % 2 == 0:\n",
        "   evenlist.append(randNum)\n",
        "   minimun_list = evenlist.append(randNum)\n",
        "\n",
        "print(\"The minimum is \", min(evenlist))\n",
        "\n",
        "\n",
        "if randNum % 2 == 0:\n",
        "   oddlist.append(randNum)\n",
        "   minimun_list = oddlist.append(randNum)\n",
        "\n",
        "print(\"The minimum is \", min(oddlist))\n",
        "\n"
      ],
      "metadata": {
        "colab": {
          "base_uri": "https://localhost:8080/"
        },
        "id": "06oq3DLG4dLB",
        "outputId": "350c37d5-59b6-448c-d31a-22f5cda8b907"
      },
      "execution_count": null,
      "outputs": [
        {
          "output_type": "stream",
          "name": "stdout",
          "text": [
            "[11, 17, 11, 12, 16]\n",
            "The even number list is  [16]\n",
            "The minimum is  16\n",
            "The minimum is  16\n"
          ]
        }
      ]
    },
    {
      "cell_type": "code",
      "source": [
        "example_list = [21, 22, 19, 14]\n",
        "\n",
        "print(min(example_list))\n"
      ],
      "metadata": {
        "colab": {
          "base_uri": "https://localhost:8080/"
        },
        "id": "jeF3Lc5p6GZQ",
        "outputId": "347c18d9-0c7e-4bc2-9c3d-dcb838d4bee0"
      },
      "execution_count": null,
      "outputs": [
        {
          "output_type": "stream",
          "name": "stdout",
          "text": [
            "14\n"
          ]
        }
      ]
    }
  ]
}