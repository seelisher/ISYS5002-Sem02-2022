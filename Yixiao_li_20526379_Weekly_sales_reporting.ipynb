{
  "nbformat": 4,
  "nbformat_minor": 0,
  "metadata": {
    "colab": {
      "provenance": [],
      "authorship_tag": "ABX9TyNYmVckCe9cq0ea8AsZgT00",
      "include_colab_link": true
    },
    "kernelspec": {
      "name": "python3",
      "display_name": "Python 3"
    },
    "language_info": {
      "name": "python"
    }
  },
  "cells": [
    {
      "cell_type": "markdown",
      "metadata": {
        "id": "view-in-github",
        "colab_type": "text"
      },
      "source": [
        "<a href=\"https://colab.research.google.com/github/seelisher/ISYS5002_Yixiao-Li_20526379_Homework/blob/main/Yixiao_li_20526379_Weekly_sales_reporting.ipynb\" target=\"_parent\"><img src=\"https://colab.research.google.com/assets/colab-badge.svg\" alt=\"Open In Colab\"/></a>"
      ]
    },
    {
      "cell_type": "markdown",
      "source": [],
      "metadata": {
        "id": "zl9SDlXseCq5"
      }
    },
    {
      "cell_type": "markdown",
      "source": [
        "# **TASK: Weekly Sales Reporting**"
      ],
      "metadata": {
        "id": "p66m0sd5ft5I"
      }
    },
    {
      "cell_type": "markdown",
      "source": [
        "**Student Name: Yixiao Li**\n",
        "\n",
        "**Student ID: 20526379**"
      ],
      "metadata": {
        "id": "erKdXVk2fH1P"
      }
    },
    {
      "cell_type": "markdown",
      "source": [
        "# **Company’s Weekly Report - collects and analyse the weekly sales activity**"
      ],
      "metadata": {
        "id": "Povd3gmDeF9x"
      }
    },
    {
      "cell_type": "markdown",
      "source": [
        "## Introduction"
      ],
      "metadata": {
        "id": "QjefYwVm--hu"
      }
    },
    {
      "cell_type": "markdown",
      "source": [
        "This lab will design and develop a program to implement data collection for a company. This lab will use notebooks to analyze and visualize weekly sales data. The data is a CSV file. After importing the data through pandas, calculate the total sales and weekly average sales, and use a bar chart to analyze the sales of each employee on different working days. visualize. Compared to other analysis data graphs, bar graphs can clearly see the size of each data, and it is easy to compare the differences between data (Kolodziej, Hesse and Engelmann 2016). Bar charts will help the company manage sales data more efficiently."
      ],
      "metadata": {
        "id": "7Q9PbCzdhbN-"
      }
    },
    {
      "cell_type": "code",
      "execution_count": 2,
      "metadata": {
        "id": "7WZgBtua81nu"
      },
      "outputs": [],
      "source": [
        "#import the information need to read\n",
        "import pandas as pd\n",
        "import matplotlib.pyplot as plt\n",
        "import seaborn as sns\n",
        "import numpy as np"
      ]
    },
    {
      "cell_type": "code",
      "source": [
        "import csv\n",
        "ls_sum=[]\n",
        "ls_ave=[]\n",
        "with open('weeklysales.csv') as csvfile:\n",
        "    spamreader = csv.reader(csvfile)\n",
        "    for row in spamreader:\n",
        "        print(', '.join(row))\n",
        "        if 'Day' not in row:\n",
        "            _sum=int(row[1])+int(row[2])+int(row[3])+int(row[4])+int(row[5])\n",
        "            averge=_sum/5\n",
        "            ls_sum.append(_sum)\n",
        "            ls_ave.append(averge)"
      ],
      "metadata": {
        "colab": {
          "base_uri": "https://localhost:8080/"
        },
        "id": "i0t8zGc40og4",
        "outputId": "6148dce1-ae13-4186-bf65-a9b469e0f6eb"
      },
      "execution_count": 16,
      "outputs": [
        {
          "output_type": "stream",
          "name": "stdout",
          "text": [
            "Day, John, Alice, Daisy, Lily, Ronny\n",
            "Mon, 150, 100, 80, 200, 120\n",
            "Tue, 200, 250, 130, 300, 155\n",
            "Wed, 220, 120, 108, 220, 350\n",
            "Thur, 200, 180, 250, 280, 200\n",
            "Fri, 125, 150, 200, 185, 150\n"
          ]
        }
      ]
    },
    {
      "cell_type": "code",
      "source": [
        "ls_sum"
      ],
      "metadata": {
        "colab": {
          "base_uri": "https://localhost:8080/"
        },
        "id": "WJMbibjJ0z9g",
        "outputId": "0b3db9d6-c948-4c39-d1ee-66a5f4ac5196"
      },
      "execution_count": 19,
      "outputs": [
        {
          "output_type": "execute_result",
          "data": {
            "text/plain": [
              "[650, 1035, 1018, 1110, 810]"
            ]
          },
          "metadata": {},
          "execution_count": 19
        }
      ]
    },
    {
      "cell_type": "code",
      "source": [
        "ls_ave"
      ],
      "metadata": {
        "colab": {
          "base_uri": "https://localhost:8080/"
        },
        "id": "Z4l7y9uR06AH",
        "outputId": "6499fff4-bf92-4534-cd3b-417a47d7dd6e"
      },
      "execution_count": 18,
      "outputs": [
        {
          "output_type": "execute_result",
          "data": {
            "text/plain": [
              "[130.0, 207.0, 203.6, 222.0, 162.0]"
            ]
          },
          "metadata": {},
          "execution_count": 18
        }
      ]
    },
    {
      "cell_type": "code",
      "source": [
        "#Read the file using the read_csv function\n",
        "df=pd.read_csv('weeklysales.csv')\n",
        "#View the first five rows of data\n",
        "df.head()"
      ],
      "metadata": {
        "colab": {
          "base_uri": "https://localhost:8080/",
          "height": 214
        },
        "id": "bFsERbn7xXz_",
        "outputId": "dede6018-3787-40a6-9e19-ea7648c8641f"
      },
      "execution_count": 8,
      "outputs": [
        {
          "output_type": "execute_result",
          "data": {
            "text/plain": [
              "    Day  John  Alice  Daisy  Lily  Ronny\n",
              "0   Mon   150    100     80   200    120\n",
              "1   Tue   200    250    130   300    155\n",
              "2   Wed   220    120    108   220    350\n",
              "3  Thur   200    180    250   280    200\n",
              "4   Fri   125    150    200   185    150"
            ],
            "text/html": [
              "\n",
              "  <div id=\"df-7feb7511-f884-4c70-b9c6-a2427c8e62a6\">\n",
              "    <div class=\"colab-df-container\">\n",
              "      <div>\n",
              "<style scoped>\n",
              "    .dataframe tbody tr th:only-of-type {\n",
              "        vertical-align: middle;\n",
              "    }\n",
              "\n",
              "    .dataframe tbody tr th {\n",
              "        vertical-align: top;\n",
              "    }\n",
              "\n",
              "    .dataframe thead th {\n",
              "        text-align: right;\n",
              "    }\n",
              "</style>\n",
              "<table border=\"1\" class=\"dataframe\">\n",
              "  <thead>\n",
              "    <tr style=\"text-align: right;\">\n",
              "      <th></th>\n",
              "      <th>Day</th>\n",
              "      <th>John</th>\n",
              "      <th>Alice</th>\n",
              "      <th>Daisy</th>\n",
              "      <th>Lily</th>\n",
              "      <th>Ronny</th>\n",
              "    </tr>\n",
              "  </thead>\n",
              "  <tbody>\n",
              "    <tr>\n",
              "      <th>0</th>\n",
              "      <td>Mon</td>\n",
              "      <td>150</td>\n",
              "      <td>100</td>\n",
              "      <td>80</td>\n",
              "      <td>200</td>\n",
              "      <td>120</td>\n",
              "    </tr>\n",
              "    <tr>\n",
              "      <th>1</th>\n",
              "      <td>Tue</td>\n",
              "      <td>200</td>\n",
              "      <td>250</td>\n",
              "      <td>130</td>\n",
              "      <td>300</td>\n",
              "      <td>155</td>\n",
              "    </tr>\n",
              "    <tr>\n",
              "      <th>2</th>\n",
              "      <td>Wed</td>\n",
              "      <td>220</td>\n",
              "      <td>120</td>\n",
              "      <td>108</td>\n",
              "      <td>220</td>\n",
              "      <td>350</td>\n",
              "    </tr>\n",
              "    <tr>\n",
              "      <th>3</th>\n",
              "      <td>Thur</td>\n",
              "      <td>200</td>\n",
              "      <td>180</td>\n",
              "      <td>250</td>\n",
              "      <td>280</td>\n",
              "      <td>200</td>\n",
              "    </tr>\n",
              "    <tr>\n",
              "      <th>4</th>\n",
              "      <td>Fri</td>\n",
              "      <td>125</td>\n",
              "      <td>150</td>\n",
              "      <td>200</td>\n",
              "      <td>185</td>\n",
              "      <td>150</td>\n",
              "    </tr>\n",
              "  </tbody>\n",
              "</table>\n",
              "</div>\n",
              "      <button class=\"colab-df-convert\" onclick=\"convertToInteractive('df-7feb7511-f884-4c70-b9c6-a2427c8e62a6')\"\n",
              "              title=\"Convert this dataframe to an interactive table.\"\n",
              "              style=\"display:none;\">\n",
              "        \n",
              "  <svg xmlns=\"http://www.w3.org/2000/svg\" height=\"24px\"viewBox=\"0 0 24 24\"\n",
              "       width=\"24px\">\n",
              "    <path d=\"M0 0h24v24H0V0z\" fill=\"none\"/>\n",
              "    <path d=\"M18.56 5.44l.94 2.06.94-2.06 2.06-.94-2.06-.94-.94-2.06-.94 2.06-2.06.94zm-11 1L8.5 8.5l.94-2.06 2.06-.94-2.06-.94L8.5 2.5l-.94 2.06-2.06.94zm10 10l.94 2.06.94-2.06 2.06-.94-2.06-.94-.94-2.06-.94 2.06-2.06.94z\"/><path d=\"M17.41 7.96l-1.37-1.37c-.4-.4-.92-.59-1.43-.59-.52 0-1.04.2-1.43.59L10.3 9.45l-7.72 7.72c-.78.78-.78 2.05 0 2.83L4 21.41c.39.39.9.59 1.41.59.51 0 1.02-.2 1.41-.59l7.78-7.78 2.81-2.81c.8-.78.8-2.07 0-2.86zM5.41 20L4 18.59l7.72-7.72 1.47 1.35L5.41 20z\"/>\n",
              "  </svg>\n",
              "      </button>\n",
              "      \n",
              "  <style>\n",
              "    .colab-df-container {\n",
              "      display:flex;\n",
              "      flex-wrap:wrap;\n",
              "      gap: 12px;\n",
              "    }\n",
              "\n",
              "    .colab-df-convert {\n",
              "      background-color: #E8F0FE;\n",
              "      border: none;\n",
              "      border-radius: 50%;\n",
              "      cursor: pointer;\n",
              "      display: none;\n",
              "      fill: #1967D2;\n",
              "      height: 32px;\n",
              "      padding: 0 0 0 0;\n",
              "      width: 32px;\n",
              "    }\n",
              "\n",
              "    .colab-df-convert:hover {\n",
              "      background-color: #E2EBFA;\n",
              "      box-shadow: 0px 1px 2px rgba(60, 64, 67, 0.3), 0px 1px 3px 1px rgba(60, 64, 67, 0.15);\n",
              "      fill: #174EA6;\n",
              "    }\n",
              "\n",
              "    [theme=dark] .colab-df-convert {\n",
              "      background-color: #3B4455;\n",
              "      fill: #D2E3FC;\n",
              "    }\n",
              "\n",
              "    [theme=dark] .colab-df-convert:hover {\n",
              "      background-color: #434B5C;\n",
              "      box-shadow: 0px 1px 3px 1px rgba(0, 0, 0, 0.15);\n",
              "      filter: drop-shadow(0px 1px 2px rgba(0, 0, 0, 0.3));\n",
              "      fill: #FFFFFF;\n",
              "    }\n",
              "  </style>\n",
              "\n",
              "      <script>\n",
              "        const buttonEl =\n",
              "          document.querySelector('#df-7feb7511-f884-4c70-b9c6-a2427c8e62a6 button.colab-df-convert');\n",
              "        buttonEl.style.display =\n",
              "          google.colab.kernel.accessAllowed ? 'block' : 'none';\n",
              "\n",
              "        async function convertToInteractive(key) {\n",
              "          const element = document.querySelector('#df-7feb7511-f884-4c70-b9c6-a2427c8e62a6');\n",
              "          const dataTable =\n",
              "            await google.colab.kernel.invokeFunction('convertToInteractive',\n",
              "                                                     [key], {});\n",
              "          if (!dataTable) return;\n",
              "\n",
              "          const docLinkHtml = 'Like what you see? Visit the ' +\n",
              "            '<a target=\"_blank\" href=https://colab.research.google.com/notebooks/data_table.ipynb>data table notebook</a>'\n",
              "            + ' to learn more about interactive tables.';\n",
              "          element.innerHTML = '';\n",
              "          dataTable['output_type'] = 'display_data';\n",
              "          await google.colab.output.renderOutput(dataTable, element);\n",
              "          const docLink = document.createElement('div');\n",
              "          docLink.innerHTML = docLinkHtml;\n",
              "          element.appendChild(docLink);\n",
              "        }\n",
              "      </script>\n",
              "    </div>\n",
              "  </div>\n",
              "  "
            ]
          },
          "metadata": {},
          "execution_count": 8
        }
      ]
    },
    {
      "cell_type": "code",
      "source": [
        "#Use the sum function to sum, where axis= 1 means that the rows are summed\n",
        "df['Total']=df.sum(axis=1)\n",
        "\n",
        "#DailyAverageSale equals Toatl divided by 5\n",
        "df['DailyAverageSale']=(df['Total']/5)\n",
        "df"
      ],
      "metadata": {
        "colab": {
          "base_uri": "https://localhost:8080/",
          "height": 261
        },
        "id": "NcejPVPHyy4D",
        "outputId": "e1b2188f-1d99-45d8-9dca-108de0eca8ba"
      },
      "execution_count": 25,
      "outputs": [
        {
          "output_type": "stream",
          "name": "stderr",
          "text": [
            "/usr/local/lib/python3.7/dist-packages/ipykernel_launcher.py:2: FutureWarning: Dropping of nuisance columns in DataFrame reductions (with 'numeric_only=None') is deprecated; in a future version this will raise TypeError.  Select only valid columns before calling the reduction.\n",
            "  \n"
          ]
        },
        {
          "output_type": "execute_result",
          "data": {
            "text/plain": [
              "    Day  John  Alice  Daisy  Lily  Ronny   Total  DailyAverageSale\n",
              "0   Mon   150    100     80   200    120  1430.0            286.00\n",
              "1   Tue   200    250    130   300    155  2277.0            455.40\n",
              "2   Wed   220    120    108   220    350  2239.6            447.92\n",
              "3  Thur   200    180    250   280    200  2442.0            488.40\n",
              "4   Fri   125    150    200   185    150  1782.0            356.40"
            ],
            "text/html": [
              "\n",
              "  <div id=\"df-8905a5e8-e1d2-4493-9efd-3f81baa652a7\">\n",
              "    <div class=\"colab-df-container\">\n",
              "      <div>\n",
              "<style scoped>\n",
              "    .dataframe tbody tr th:only-of-type {\n",
              "        vertical-align: middle;\n",
              "    }\n",
              "\n",
              "    .dataframe tbody tr th {\n",
              "        vertical-align: top;\n",
              "    }\n",
              "\n",
              "    .dataframe thead th {\n",
              "        text-align: right;\n",
              "    }\n",
              "</style>\n",
              "<table border=\"1\" class=\"dataframe\">\n",
              "  <thead>\n",
              "    <tr style=\"text-align: right;\">\n",
              "      <th></th>\n",
              "      <th>Day</th>\n",
              "      <th>John</th>\n",
              "      <th>Alice</th>\n",
              "      <th>Daisy</th>\n",
              "      <th>Lily</th>\n",
              "      <th>Ronny</th>\n",
              "      <th>Total</th>\n",
              "      <th>DailyAverageSale</th>\n",
              "    </tr>\n",
              "  </thead>\n",
              "  <tbody>\n",
              "    <tr>\n",
              "      <th>0</th>\n",
              "      <td>Mon</td>\n",
              "      <td>150</td>\n",
              "      <td>100</td>\n",
              "      <td>80</td>\n",
              "      <td>200</td>\n",
              "      <td>120</td>\n",
              "      <td>1430.0</td>\n",
              "      <td>286.00</td>\n",
              "    </tr>\n",
              "    <tr>\n",
              "      <th>1</th>\n",
              "      <td>Tue</td>\n",
              "      <td>200</td>\n",
              "      <td>250</td>\n",
              "      <td>130</td>\n",
              "      <td>300</td>\n",
              "      <td>155</td>\n",
              "      <td>2277.0</td>\n",
              "      <td>455.40</td>\n",
              "    </tr>\n",
              "    <tr>\n",
              "      <th>2</th>\n",
              "      <td>Wed</td>\n",
              "      <td>220</td>\n",
              "      <td>120</td>\n",
              "      <td>108</td>\n",
              "      <td>220</td>\n",
              "      <td>350</td>\n",
              "      <td>2239.6</td>\n",
              "      <td>447.92</td>\n",
              "    </tr>\n",
              "    <tr>\n",
              "      <th>3</th>\n",
              "      <td>Thur</td>\n",
              "      <td>200</td>\n",
              "      <td>180</td>\n",
              "      <td>250</td>\n",
              "      <td>280</td>\n",
              "      <td>200</td>\n",
              "      <td>2442.0</td>\n",
              "      <td>488.40</td>\n",
              "    </tr>\n",
              "    <tr>\n",
              "      <th>4</th>\n",
              "      <td>Fri</td>\n",
              "      <td>125</td>\n",
              "      <td>150</td>\n",
              "      <td>200</td>\n",
              "      <td>185</td>\n",
              "      <td>150</td>\n",
              "      <td>1782.0</td>\n",
              "      <td>356.40</td>\n",
              "    </tr>\n",
              "  </tbody>\n",
              "</table>\n",
              "</div>\n",
              "      <button class=\"colab-df-convert\" onclick=\"convertToInteractive('df-8905a5e8-e1d2-4493-9efd-3f81baa652a7')\"\n",
              "              title=\"Convert this dataframe to an interactive table.\"\n",
              "              style=\"display:none;\">\n",
              "        \n",
              "  <svg xmlns=\"http://www.w3.org/2000/svg\" height=\"24px\"viewBox=\"0 0 24 24\"\n",
              "       width=\"24px\">\n",
              "    <path d=\"M0 0h24v24H0V0z\" fill=\"none\"/>\n",
              "    <path d=\"M18.56 5.44l.94 2.06.94-2.06 2.06-.94-2.06-.94-.94-2.06-.94 2.06-2.06.94zm-11 1L8.5 8.5l.94-2.06 2.06-.94-2.06-.94L8.5 2.5l-.94 2.06-2.06.94zm10 10l.94 2.06.94-2.06 2.06-.94-2.06-.94-.94-2.06-.94 2.06-2.06.94z\"/><path d=\"M17.41 7.96l-1.37-1.37c-.4-.4-.92-.59-1.43-.59-.52 0-1.04.2-1.43.59L10.3 9.45l-7.72 7.72c-.78.78-.78 2.05 0 2.83L4 21.41c.39.39.9.59 1.41.59.51 0 1.02-.2 1.41-.59l7.78-7.78 2.81-2.81c.8-.78.8-2.07 0-2.86zM5.41 20L4 18.59l7.72-7.72 1.47 1.35L5.41 20z\"/>\n",
              "  </svg>\n",
              "      </button>\n",
              "      \n",
              "  <style>\n",
              "    .colab-df-container {\n",
              "      display:flex;\n",
              "      flex-wrap:wrap;\n",
              "      gap: 12px;\n",
              "    }\n",
              "\n",
              "    .colab-df-convert {\n",
              "      background-color: #E8F0FE;\n",
              "      border: none;\n",
              "      border-radius: 50%;\n",
              "      cursor: pointer;\n",
              "      display: none;\n",
              "      fill: #1967D2;\n",
              "      height: 32px;\n",
              "      padding: 0 0 0 0;\n",
              "      width: 32px;\n",
              "    }\n",
              "\n",
              "    .colab-df-convert:hover {\n",
              "      background-color: #E2EBFA;\n",
              "      box-shadow: 0px 1px 2px rgba(60, 64, 67, 0.3), 0px 1px 3px 1px rgba(60, 64, 67, 0.15);\n",
              "      fill: #174EA6;\n",
              "    }\n",
              "\n",
              "    [theme=dark] .colab-df-convert {\n",
              "      background-color: #3B4455;\n",
              "      fill: #D2E3FC;\n",
              "    }\n",
              "\n",
              "    [theme=dark] .colab-df-convert:hover {\n",
              "      background-color: #434B5C;\n",
              "      box-shadow: 0px 1px 3px 1px rgba(0, 0, 0, 0.15);\n",
              "      filter: drop-shadow(0px 1px 2px rgba(0, 0, 0, 0.3));\n",
              "      fill: #FFFFFF;\n",
              "    }\n",
              "  </style>\n",
              "\n",
              "      <script>\n",
              "        const buttonEl =\n",
              "          document.querySelector('#df-8905a5e8-e1d2-4493-9efd-3f81baa652a7 button.colab-df-convert');\n",
              "        buttonEl.style.display =\n",
              "          google.colab.kernel.accessAllowed ? 'block' : 'none';\n",
              "\n",
              "        async function convertToInteractive(key) {\n",
              "          const element = document.querySelector('#df-8905a5e8-e1d2-4493-9efd-3f81baa652a7');\n",
              "          const dataTable =\n",
              "            await google.colab.kernel.invokeFunction('convertToInteractive',\n",
              "                                                     [key], {});\n",
              "          if (!dataTable) return;\n",
              "\n",
              "          const docLinkHtml = 'Like what you see? Visit the ' +\n",
              "            '<a target=\"_blank\" href=https://colab.research.google.com/notebooks/data_table.ipynb>data table notebook</a>'\n",
              "            + ' to learn more about interactive tables.';\n",
              "          element.innerHTML = '';\n",
              "          dataTable['output_type'] = 'display_data';\n",
              "          await google.colab.output.renderOutput(dataTable, element);\n",
              "          const docLink = document.createElement('div');\n",
              "          docLink.innerHTML = docLinkHtml;\n",
              "          element.appendChild(docLink);\n",
              "        }\n",
              "      </script>\n",
              "    </div>\n",
              "  </div>\n",
              "  "
            ]
          },
          "metadata": {},
          "execution_count": 25
        }
      ]
    },
    {
      "cell_type": "markdown",
      "source": [
        "## Analysis"
      ],
      "metadata": {
        "id": "TaRPV5lnh4fN"
      }
    },
    {
      "cell_type": "markdown",
      "source": [
        "To calculate the total, you only need to sum the rows to get the result. To calculate the daily average sale, you only need to divide total by 5 to get the result. As you can see from the table, Ronny's highest sales on Wednesday were 350, and daisy's lowest sales on Monday were 80. Monday and Friday are the two days of the week with lower sales, with total sales not exceeding 1000. The highest total is 1110 on Thursday and the lowest total is 650 on Monday. The highest daily average sale is 222 and the lowest is 130."
      ],
      "metadata": {
        "id": "FqFTSNR70NqY"
      }
    },
    {
      "cell_type": "code",
      "source": [
        "def Draw_Parallel_bar(features,L1,L2,L3,L4,L5,L6):\n",
        "    '''\n",
        "    This function is used to draw a bar chart, where the parameter features represents the name of the X-axis, \n",
        "    L1 to L5 represent the sales data from Monday to Friday, and L6 represents the weekly average sales data.\n",
        "    '''\n",
        "    features=features\n",
        "    RA=L1;SS=L2;SLE=L3;Arthritis=L4;CTD=L5\n",
        "    #Set the width of the bar graph\n",
        "    bar_width = 0.1\n",
        "    index_RA = np.arange(len(features))\n",
        "    index_SS = index_RA + bar_width\n",
        "    index_SLE = index_SS + bar_width\n",
        "    index_Arthritis = index_SLE + bar_width\n",
        "    index_CTD = index_Arthritis + bar_width\n",
        "    #Set font size and style\n",
        "    font = {'family': 'Times New Roman', 'size': 12,}\n",
        "               \n",
        "    sns.set(font_scale=1.2)\n",
        "    plt.rc('font',family='Times New Roman')\n",
        "    #set canvas size\n",
        "    plt.figure(figsize=(10,8))\n",
        "    #Start drawing bar chart\n",
        "    plt.bar(index_RA, height=RA, width=bar_width, color='peru', label='John')\n",
        "    plt.bar(index_SS, height=SS, width=bar_width, color='g', label='Alice')\n",
        "    plt.bar(index_SLE, height=SLE, width=bar_width, color='y', label='Daisy')\n",
        "    plt.bar(index_Arthritis, height=Arthritis, width=bar_width, color='c', label='Lily')\n",
        "    plt.bar(index_CTD, height=CTD, width=bar_width, color='violet', label='Ronny')\n",
        "    plt.plot(L6,label='DailyAverageSale',linewidth=4,color='green')\n",
        "    #show legend\n",
        "    plt.legend(fontsize = 12)\n",
        "    plt.xticks(index_RA + 10*bar_width/5,features,fontsize = 15)\n",
        "    plt.show()\n",
        "               "
      ],
      "metadata": {
        "id": "VNzncFyh2bkI"
      },
      "execution_count": 21,
      "outputs": []
    },
    {
      "cell_type": "code",
      "source": [
        "if __name__==\"__main__\":\n",
        "    #Calling a function passing in arguments\n",
        "    Draw_Parallel_bar(('Mon', 'Tue', 'Wed', 'Thur', 'Fri'),\n",
        "                      [150, 200, 220, 200, 125],\n",
        "                       [100, 250, 120, 180, 150],\n",
        "                       [ 80, 130, 108, 250, 200],\n",
        "                       [200, 300, 220, 280, 185],\n",
        "                       [120, 155, 350, 200, 150],\n",
        "                     [130.0, 207.0, 203.6, 222.0, 162.0])"
      ],
      "metadata": {
        "colab": {
          "base_uri": "https://localhost:8080/",
          "height": 490
        },
        "id": "HqpYg9Aa2lmf",
        "outputId": "66e1fe8d-f29c-496b-e7e2-a5c1db9e1aae"
      },
      "execution_count": 22,
      "outputs": [
        {
          "output_type": "display_data",
          "data": {
            "text/plain": [
              "<Figure size 720x576 with 1 Axes>"
            ],
            "image/png": "[encoded data removed]"
          },
          "metadata": {}
        }
      ]
    },
    {
      "cell_type": "code",
      "source": [
        "df.sum()"
      ],
      "metadata": {
        "colab": {
          "base_uri": "https://localhost:8080/"
        },
        "id": "hb9bPpx42ssi",
        "outputId": "a22681e1-c6d2-45c2-bff8-1713c4c80672"
      },
      "execution_count": 23,
      "outputs": [
        {
          "output_type": "execute_result",
          "data": {
            "text/plain": [
              "Day                 MonTueWedThurFri\n",
              "John                             895\n",
              "Alice                            800\n",
              "Daisy                            768\n",
              "Lily                            1185\n",
              "Ronny                            975\n",
              "Total                           4623\n",
              "DailyAverageSale               924.6\n",
              "dtype: object"
            ]
          },
          "metadata": {},
          "execution_count": 23
        }
      ]
    },
    {
      "cell_type": "code",
      "source": [
        "plt.figure(figsize=(8,6))\n",
        "plt.plot(df['Total'],label='Total',color='blue')\n",
        "plt.plot(df['DailyAverageSale'],label='DailyAverageSale',color='green')\n",
        "plt.legend()\n",
        "plt.xticks(np.arange(5) + 0.2, ['Mon', 'Tue', 'Wed', 'Thur', 'Fri'],fontsize = 15)\n",
        "plt.show()"
      ],
      "metadata": {
        "colab": {
          "base_uri": "https://localhost:8080/",
          "height": 382
        },
        "id": "V6XkyFYI24qb",
        "outputId": "d26106c9-b61e-43b0-b110-6dc910d36944"
      },
      "execution_count": 24,
      "outputs": [
        {
          "output_type": "display_data",
          "data": {
            "text/plain": [
              "<Figure size 576x432 with 1 Axes>"
            ],
            "image/png": "[encoded data removed]"
          },
          "metadata": {}
        }
      ]
    },
    {
      "cell_type": "markdown",
      "source": [
        "## Discussion"
      ],
      "metadata": {
        "id": "RENt3y1t0VjT"
      }
    },
    {
      "cell_type": "markdown",
      "source": [
        "As you can see from the bar chart, the sales gap among employees was the smallest and relatively stable on Thursday. The sales gap between employees was the widest on Tuesday, with the largest already exceeding 300 and the lowest being less than 100. As a manager, it is necessary to carry out unified training on the working methods of its employees, to improve and unify the sales ability of employees. Overall, Mondays had the worst sales requirements, Fridays were a bit better than Mondays, and Tuesdays and Thursdays sold better. From this data, it can be understood that Tuesday and Thursday are the golden periods for sales, and popular products should be sold on these two days to increase sales. Compared with other days, the sales on Monday and Friday are low. Managers should change the sales method on these two days. Some products can be discounted or bundled to attract customers. In terms of average sales, Monday had the lowest sales and Thursday the highest. As can be seen from the bar chart, in terms of employee sales, Daisy was the worst performer in the first three days and topped the list in the last two days. Daisy's performance shows that he is an employee whose ability fluctuates and is easily influenced by the environment and the outside world. John and Lily's performance levels are relatively stable, but Lily's daily average sales amount is higher than John's. If you need to be promoted to the position of manager in the future, Lily is more likely to be competent than others."
      ],
      "metadata": {
        "id": "1URR-w6Y4fIz"
      }
    },
    {
      "cell_type": "markdown",
      "source": [
        "## Conclusion"
      ],
      "metadata": {
        "id": "4z2pRnFo4jCJ"
      }
    },
    {
      "cell_type": "markdown",
      "source": [
        "After the above analysis, the following conclusions are drawn: From the perspective of working days, the total sales volume on Thursday is the highest, and the total sales volume on Monday is the lowest; from the perspective of employee sales, Joho's daily sales first increased and then decreased, and the daily sales were in the middle among employees. Tuesday had the highest sales, and the rest ranked at the bottom; Daisy had the lowest sales for the first three days, after which the sales picked up; Lily had good sales every day and was the best performing employee; Ronny had good sales, mainly because Wednesday's sales were far away Ahead of everyone else, but sales on other weekdays aren't as high or steady. As a manager, you can see the difference between the data more intuitively and clearly through the data graph, adjust the sales method in time, and train the staff."
      ],
      "metadata": {
        "id": "ekhxPIJR8h4g"
      }
    },
    {
      "cell_type": "markdown",
      "source": [
        "##Reference"
      ],
      "metadata": {
        "id": "dn0NmhoRdBjc"
      }
    },
    {
      "cell_type": "markdown",
      "source": [
        "![image.png](data:image/png;base64,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)"
      ],
      "metadata": {
        "id": "rroh-RFYdEU8"
      }
    }
  ]
}