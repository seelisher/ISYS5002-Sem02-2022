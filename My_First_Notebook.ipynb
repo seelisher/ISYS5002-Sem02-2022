{
  "nbformat": 4,
  "nbformat_minor": 0,
  "metadata": {
    "colab": {
      "name": "My First Notebook.ipynb",
      "provenance": [],
      "collapsed_sections": [],
      "authorship_tag": "ABX9TyNe3N7Rmb6V5K76F1+BwZOQ",
      "include_colab_link": true
    },
    "kernelspec": {
      "name": "python3",
      "display_name": "Python 3"
    },
    "language_info": {
      "name": "python"
    }
  },
  "cells": [
    {
      "cell_type": "markdown",
      "metadata": {
        "id": "view-in-github",
        "colab_type": "text"
      },
      "source": [
        "<a href=\"https://colab.research.google.com/github/seelisher/ISYS5002-Sem02-2022/blob/main/My_First_Notebook.ipynb\" target=\"_parent\"><img src=\"https://colab.research.google.com/assets/colab-badge.svg\" alt=\"Open In Colab\"/></a>"
      ]
    },
    {
      "cell_type": "markdown",
      "source": [
        "Program to choose a sundae winner randomly"
      ],
      "metadata": {
        "id": "akNL8AMUEkFM"
      }
    },
    {
      "cell_type": "code",
      "execution_count": null,
      "metadata": {
        "id": "G06bUdOsD8rY"
      },
      "outputs": [],
      "source": [
        "customers = ['Jimmy', 'Kim', 'John', 'Stacie'] #Make a list of customers."
      ]
    },
    {
      "cell_type": "code",
      "source": [
        "winner = random.choice(customers) #You need just randomly choose one customer's name from here the four customers."
      ],
      "metadata": {
        "id": "r8jPOyt6ECJs"
      },
      "execution_count": null,
      "outputs": []
    },
    {
      "cell_type": "code",
      "source": [
        "import random #Randomly choose one of the customer's name."
      ],
      "metadata": {
        "id": "8lRvF0vOE8Ki"
      },
      "execution_count": null,
      "outputs": []
    },
    {
      "cell_type": "code",
      "source": [
        "flavor = 'vanilla' #Give the ice cream's flavor to define a variable and it assigns a value. The vale is \"vanilla\"."
      ],
      "metadata": {
        "id": "be8KI3nqELEk"
      },
      "execution_count": null,
      "outputs": []
    },
    {
      "cell_type": "code",
      "source": [
        "print('Congratulations ' + winner +\n",
        "' you have won an ice cream sundae!') #Get the winner from the randomly data,and then send the message to the win customer."
      ],
      "metadata": {
        "colab": {
          "base_uri": "https://localhost:8080/"
        },
        "id": "3cdMLl9pERMr",
        "outputId": "8d5038b7-8d48-44a1-84d5-0a4aa643b4a8"
      },
      "execution_count": null,
      "outputs": [
        {
          "output_type": "stream",
          "name": "stdout",
          "text": [
            "Congratulations John you have won an ice cream sundae!\n"
          ]
        }
      ]
    },
    {
      "cell_type": "code",
      "source": [
        "\n",
        "prompt = 'Would you like a cherry on top? ' #We need to make a list for adding information,and asking a series of informations, like would you like a cherry on the ice cream."
      ],
      "metadata": {
        "id": "l3u53WzmEUEw"
      },
      "execution_count": null,
      "outputs": []
    },
    {
      "cell_type": "code",
      "source": [
        "\n",
        "wants_cherry = input(prompt) #Want cherry or not want  cherry, all is the variable. Whatever you choose the one,it will be parsed out a key. and then you will use it."
      ],
      "metadata": {
        "colab": {
          "base_uri": "https://localhost:8080/"
        },
        "id": "1mW8xdRJEWKh",
        "outputId": "b1f4ab1a-a91a-4a35-cf97-554e8c81cfe6"
      },
      "execution_count": null,
      "outputs": [
        {
          "name": "stdout",
          "output_type": "stream",
          "text": [
            "Would you like a cherry on top? YES\n"
          ]
        }
      ]
    },
    {
      "cell_type": "code",
      "source": [
        "order = flavor + ' sundae ' #Flavor is a variable. Flavor is vanilla, the order is putout a vanilla sundae."
      ],
      "metadata": {
        "id": "hY_jYVN9EYZG"
      },
      "execution_count": null,
      "outputs": []
    },
    {
      "cell_type": "code",
      "source": [
        "if (wants_cherry == 'yes'):\n",
        "  order = order + ' with a cherry on top' #The order information we can get from above, it's a vanilla sundae + 'with a cherry on top'=a vanilla sundae with a cherry on top."
      ],
      "metadata": {
        "id": "oKOmf4UsEaca"
      },
      "execution_count": null,
      "outputs": []
    },
    {
      "cell_type": "code",
      "source": [
        "print('One ' + order + ' for ' + winner + ' coming right up...') # Getting the final answer."
      ],
      "metadata": {
        "colab": {
          "base_uri": "https://localhost:8080/"
        },
        "id": "bs7UEi_nEcpS",
        "outputId": "dfd6a810-7f13-4a76-f96a-a461bdb4b347"
      },
      "execution_count": null,
      "outputs": [
        {
          "output_type": "stream",
          "name": "stdout",
          "text": [
            "One vanilla sundae  with a cherry on top for Kim coming right up...\n"
          ]
        }
      ]
    },
    {
      "cell_type": "code",
      "source": [
        "import random\n",
        "customers = ['Jimmy', 'Kim', 'John', 'Stacie']\n",
        "winner = random.choice(customers)\n",
        "flavor = 'vanilla'\n",
        "print('Congratulations ' + winner +\n",
        "' you have won an ice cream sundae!')\n",
        "prompt = 'Would you like a cherry on top? '\n",
        "wants_cherry = input(prompt)\n",
        "order = flavor + ' sundae '\n",
        "if (wants_cherry == 'yes'):\n",
        "  order = order + ' with a cherry on top'\n",
        "\n",
        "print('One ' + order + ' for ' + winner + ' coming right up...')"
      ],
      "metadata": {
        "id": "gtsD5NdGZe9_",
        "outputId": "adb8682b-4dcf-48df-e401-374843b1bbfb",
        "colab": {
          "base_uri": "https://localhost:8080/"
        }
      },
      "execution_count": null,
      "outputs": [
        {
          "output_type": "stream",
          "name": "stdout",
          "text": [
            "Congratulations Kim you have won an ice cream sundae!\n",
            "Would you like a cherry on top? yes\n",
            "One vanilla sundae  with a cherry on top for Kim coming right up...\n"
          ]
        }
      ]
    }
  ]
}