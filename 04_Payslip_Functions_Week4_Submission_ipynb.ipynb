{
  "nbformat": 4,
  "nbformat_minor": 0,
  "metadata": {
    "colab": {
      "name": "“04_Payslip_Functions-Week4_Submission.ipynb”的副本",
      "provenance": [],
      "collapsed_sections": [],
      "include_colab_link": true
    },
    "kernelspec": {
      "name": "python3",
      "display_name": "Python 3"
    },
    "language_info": {
      "name": "python"
    }
  },
  "cells": [
    {
      "cell_type": "markdown",
      "metadata": {
        "id": "view-in-github",
        "colab_type": "text"
      },
      "source": [
        "<a href=\"https://colab.research.google.com/github/seelisher/ISYS5002-Sem02-2022/blob/main/%E2%80%9C04_Payslip_Functions_Week4_Submission_ipynb%E2%80%9D.ipynb\" target=\"_parent\"><img src=\"https://colab.research.google.com/assets/colab-badge.svg\" alt=\"Open In Colab\"/></a>"
      ]
    },
    {
      "cell_type": "markdown",
      "source": [
        "# Task: Write a program to print out a payslip for hourly paid employees. <br>\n",
        "Modify the Gross pay & paylisp activities to print out a payslip for hourly paid employees.<br>Refer to week 2's Gross Pay and week 3's Payslip submission activities.\n",
        "\n",
        "[What has to be on a pay slip?](https://www.fairwork.gov.au/pay-and-wages/paying-wages/pay-slips#what-has-to-be-on-a-pay-slip)\n",
        "\n",
        "[Resident tax rates 2022–23](https://www.ato.gov.au/rates/individual-income-tax-rates/)"
      ],
      "metadata": {
        "id": "2jQsL4QPFfuG"
      }
    },
    {
      "cell_type": "markdown",
      "source": [
        "# Implement this Payslip program as functions:\n",
        "\n",
        "- Function to receive details to calculate income\n",
        "- Function to calculate income, tax payable & income after tax\n",
        "- Function to print the payslip with details: \n",
        "> employee name, hourly pay rate, hours worked, gross income, tax payable, income after tax\n",
        "\n"
      ],
      "metadata": {
        "id": "u6HZryjcFBok"
      }
    },
    {
      "cell_type": "markdown",
      "source": [
        "## Step 1: Get Income details"
      ],
      "metadata": {
        "id": "r2IUoUrsGfyW"
      }
    },
    {
      "cell_type": "code",
      "source": [
        "# Get the employer’s name\n",
        "employer_name = input(\"please entern employer’s name:\")\n",
        "\n",
        "# Get the employee’s name\n",
        "employee_name = input(\"please entern employee’s name:\")\n",
        "\n",
        "# Get the employer’s Australian Business Number\n",
        "employer_Australian_Business_Number = input(\"please entern employer’s Australian Business Number:\")\n",
        "\n",
        "# Get the pay period\n",
        "the_begin_pay_period = input(\"please enter the begin pay period\")\n",
        "the_end_pay_period = input(\"please enter the end pay period\")\n",
        "\n",
        "# Get the date of payment\n",
        "the_date_of_payment = input(\"please enter the date of payment\")\n",
        "\n",
        "# Get the hourly pay\n",
        "hourly_pay = input(\"please enter the hourly pay\")\n",
        "\n",
        "# Get the hours worked\n",
        "the_hours_worked = input(\"please enter the hours worked\")\n"
      ],
      "metadata": {
        "id": "BQq3gCd1GVwf",
        "outputId": "1ad8e7aa-7ce8-4f83-f443-c0ef37f1b630",
        "colab": {
          "base_uri": "https://localhost:8080/"
        }
      },
      "execution_count": null,
      "outputs": [
        {
          "name": "stdout",
          "output_type": "stream",
          "text": [
            "please entern employer’s name:lee\n",
            "please entern employee’s name:yixiao\n",
            "please entern employer’s Australian Business Number:20526379\n",
            "please enter the begin pay period7.25\n",
            "please enter the end pay period8.20\n",
            "please enter the date of payment25\n",
            "please enter the hourly pay25\n",
            "please enter the hours worked40\n"
          ]
        }
      ]
    },
    {
      "cell_type": "markdown",
      "source": [
        "## Step 2: Calculate the income, tax payable & income after tax"
      ],
      "metadata": {
        "id": "pgt-5XVqGnWG"
      }
    },
    {
      "cell_type": "code",
      "source": [
        "income = int(input(\"Please enter the yearly income: \"))\n",
        "print(\"The income is \", income)\n",
        "\n",
        "if income <= 120000:\n",
        "  tax_payable = (income - 120000) * 0.325\n",
        "  print(\"The tax payable is \", tax_payable)\n",
        "elif income > 120001 and income <= 180000:\n",
        "  tax_payable = ((income - 120000) * 0.37) + 39000\n",
        "  print(\"The tax payable is \", tax_payable)\n",
        "elif income > 180001:\n",
        "  tax_payable = ((income - 180000) * 0.45) + 61200\n",
        "  \n",
        "print(\"The tax payable is\", tax_payable, sep ='')"
      ],
      "metadata": {
        "id": "WIXvwfVVGtbM",
        "outputId": "c54e5ea1-7895-4bb9-c00e-4756d240b82a",
        "colab": {
          "base_uri": "https://localhost:8080/"
        }
      },
      "execution_count": null,
      "outputs": [
        {
          "output_type": "stream",
          "name": "stdout",
          "text": [
            "Please enter the yearly income: 160000\n",
            "The income is  160000\n",
            "The tax payable is  53800.0\n",
            "The tax payable is53800.0\n"
          ]
        }
      ]
    },
    {
      "cell_type": "markdown",
      "source": [
        "## Step 3: Print the payslip"
      ],
      "metadata": {
        "id": "kO2J7-wTGt-k"
      }
    },
    {
      "cell_type": "code",
      "source": [
        "# Get the employer’s name\n",
        "employer_name = input(\"please entern employer’s name:\")\n",
        "\n",
        "# Get the employee’s name\n",
        "employee_name = input(\"please entern employee’s name:\")\n",
        "\n",
        "# Get the employer’s Australian Business Number\n",
        "employer_Australian_Business_Number = input(\"please entern employer’s Australian Business Number:\")\n",
        "\n",
        "# Get the pay period\n",
        "the_begin_pay_period = input(\"please enter the begin pay period\")\n",
        "the_end_pay_period = input(\"please enter the end pay period\")\n",
        "\n",
        "# Get the date of payment\n",
        "the_date_of_payment = input(\"please enter the date of payment\")\n",
        "\n",
        "# Get the hourly pay\n",
        "hourly_pay = float(input(\"Enter the hourly pay \"))\n",
        "\n",
        "# Get the hours worked\n",
        "hours_worked = float(input(\"Enter the hours worked: \"))\n",
        "\n",
        "# Get gross income = hourly_pay * hours_worked\n",
        "gross_income = hourly_pay * hours_worked\n",
        "print(\"The gross income is:  $\", format(gross_income , '.2f'), sep='' )\n",
        "\n",
        "# Get the tax payable\n",
        "if gross_income <= 18200:\n",
        "  tax_payable = 0\n",
        "elif 18201 <= income <= 45000:\n",
        "  tax_payable = (income - 18200) *0.19\n",
        "elif 45001 <=y6 income <= 120000:\n",
        "  tax_payable = ((income - 45000) *0.325) + 5092\n",
        "elif 120001 <= income <= 180000:\n",
        "  tax_payable = ((income - 120000) *0.37) + 29467\n",
        "else:\n",
        "  tax_payable = ((income - 120000) *0.45) + 51667\n",
        "\n",
        "\n",
        "# Output the calculated tax payable amount\n",
        "print(\"The tax payable is$\", tax_payable)\n",
        "\n",
        "# Get the net pay\n",
        "net_pay = gross_income - tax_payable\n",
        "print(\"The net pay is\", net_pay)"
      ],
      "metadata": {
        "id": "Q0NmbiWUG7A8",
        "outputId": "437a9bc0-e6ed-4015-8236-ecf7a617b16c",
        "colab": {
          "base_uri": "https://localhost:8080/"
        }
      },
      "execution_count": null,
      "outputs": [
        {
          "output_type": "stream",
          "name": "stdout",
          "text": [
            "please entern employer’s name:lee\n",
            "please entern employee’s name:ixiao\n",
            "please entern employer’s Australian Business Number:20526379\n",
            "please enter the begin pay period1.1\n",
            "please enter the end pay period.3090\n",
            "please enter the date of payment50\n",
            "Enter the hourly pay 360\n",
            "Enter the hours worked: 50\n",
            "The gross income is:  $18000.00\n",
            "The tax payable is$ 0\n",
            "The net pay is 18000.0\n"
          ]
        }
      ]
    },
    {
      "cell_type": "markdown",
      "metadata": {
        "id": "BNdsJ9jszwRi"
      },
      "source": [
        "## Task 2 - Complete the program"
      ]
    },
    {
      "cell_type": "code",
      "execution_count": null,
      "metadata": {
        "id": "pd8m2I1uMuAu"
      },
      "outputs": [],
      "source": [
        "# 'Main line'\n",
        "\n",
        "# Step 1 - Get details\n",
        "\n",
        "\n",
        "# Step 2 - Calculate \n",
        "\n",
        "\n",
        "# Step 3 - Output result - Print payslip\n",
        "\n"
      ]
    }
  ]
}
