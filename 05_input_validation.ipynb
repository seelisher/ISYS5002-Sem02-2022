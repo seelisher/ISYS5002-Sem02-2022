{
  "cells": [
    {
      "cell_type": "markdown",
      "metadata": {
        "id": "view-in-github",
        "colab_type": "text"
      },
      "source": [
        "<a href=\"https://colab.research.google.com/github/seelisher/ISYS5002_Yixiao-Li_20526379_Homework/blob/main/05_input_validation.ipynb\" target=\"_parent\"><img src=\"https://colab.research.google.com/assets/colab-badge.svg\" alt=\"Open In Colab\"/></a>"
      ]
    },
    {
      "cell_type": "markdown",
      "id": "b5835b0c",
      "metadata": {
        "id": "b5835b0c"
      },
      "source": [
        "# Input Validation\n",
        "\n",
        "Input validation code verifies that user supplied data, such as text from the input() function, is formatted appropriately.\n",
        "\n",
        "* isdigit()\n",
        "* try/except\n",
        "* PyInputPlus\n",
        "\n"
      ]
    },
    {
      "cell_type": "code",
      "source": [
        "salaryStr = (input (\"Enter the hourly pay rate: \"))\n",
        "\n",
        "print(salaryStr)"
      ],
      "metadata": {
        "id": "BA8h-pV08W0s",
        "colab": {
          "base_uri": "https://localhost:8080/"
        },
        "outputId": "8a404a42-b9fe-4f51-b94f-d6274a386ddb"
      },
      "id": "BA8h-pV08W0s",
      "execution_count": null,
      "outputs": [
        {
          "output_type": "stream",
          "name": "stdout",
          "text": [
            "Enter the hourly pay rate: wewe\n",
            "wewe\n"
          ]
        }
      ]
    },
    {
      "cell_type": "markdown",
      "id": "acc7252b",
      "metadata": {
        "id": "acc7252b"
      },
      "source": [
        "## isdigit()"
      ]
    },
    {
      "cell_type": "code",
      "source": [
        "salaryStr = input(\"Enter the hourly pay rate:\")\n",
        "if salaryStr.isdecimal():\n",
        "  salary = float(salaryStr)\n",
        "else:\n",
        "  print(\"Invalid input for pay rate. Please enter a numeric value for pay rate.\")\n",
        "  salary = float(input(\"Please enter the hourly pay rate again:\"))\n",
        "\n",
        "print(\"The pay rate is \",salary)"
      ],
      "metadata": {
        "colab": {
          "base_uri": "https://localhost:8080/"
        },
        "id": "yR-HaQFB_myx",
        "outputId": "1d571ca6-8f14-4c3b-d430-f0c59f2df09b"
      },
      "id": "yR-HaQFB_myx",
      "execution_count": null,
      "outputs": [
        {
          "output_type": "stream",
          "name": "stdout",
          "text": [
            "Enter the hourly pay rate:23\n",
            "The pay rate is  23.0\n"
          ]
        }
      ]
    },
    {
      "cell_type": "code",
      "execution_count": null,
      "id": "695b1f5f",
      "metadata": {
        "id": "695b1f5f",
        "colab": {
          "base_uri": "https://localhost:8080/"
        },
        "outputId": "fdd4ab5f-1384-43c1-b077-d998d49362c8"
      },
      "outputs": [
        {
          "output_type": "stream",
          "name": "stdout",
          "text": [
            "Enter the hourly pay rate: 23\n",
            "The pay rate is  23\n",
            "The pay rate is  23\n"
          ]
        }
      ],
      "source": [
        "salaryStr = (input (\"Enter the hourly pay rate: \"))\n",
        "\n",
        "salary = 0\n",
        "if salaryStr.isdigit():\n",
        "    #float(salaryStr)\n",
        "    salary = int(salaryStr)\n",
        "    print(\"The pay rate is \", salary)\n",
        "else:\n",
        "  print(\"Invalid input for pay rate. Please enter a numeric value for pay rate.\")\n",
        "\n",
        "print(\"The pay rate is \",salary)"
      ]
    },
    {
      "cell_type": "code",
      "source": [
        "salaryStr = (input (\"Enter the hourly pay rate: \"))\n",
        "\n",
        "if salaryStr.isdigit():\n",
        "    float(salaryStr)\n",
        "else:\n",
        "    print(\"Please input for pay rate. Please enter a numeric value for pay rate.\")\n",
        "\n",
        "print(\"The pay rate is \", salary)"
      ],
      "metadata": {
        "id": "2T1VPdz4e35q",
        "colab": {
          "base_uri": "https://localhost:8080/"
        },
        "outputId": "5350b789-db0c-491e-f8c1-61d2542993bc"
      },
      "id": "2T1VPdz4e35q",
      "execution_count": null,
      "outputs": [
        {
          "output_type": "stream",
          "name": "stdout",
          "text": [
            "Enter the hourly pay rate: 23\n",
            "The pay rate is  23\n"
          ]
        }
      ]
    },
    {
      "cell_type": "code",
      "source": [
        "while True:\n",
        "   salaryStr = (input (\"Enter the hourly pay rate: \"))\n",
        "   if salaryStr.isdigit():\n",
        "    float(salaryStr)\n",
        "    break\n",
        "else:\n",
        "    print(\"Please input for pay rate. Please enter a numeric value for pay rate.\")\n",
        "\n",
        "print(\"The pay rate is \", salaryStr)"
      ],
      "metadata": {
        "colab": {
          "base_uri": "https://localhost:8080/"
        },
        "id": "D_cuyaUQ_FIj",
        "outputId": "511fe8f9-20d1-495d-d160-c1b52d91a869"
      },
      "id": "D_cuyaUQ_FIj",
      "execution_count": null,
      "outputs": [
        {
          "output_type": "stream",
          "name": "stdout",
          "text": [
            "Enter the hourly pay rate: we\n",
            "Enter the hourly pay rate: 34e\n",
            "Enter the hourly pay rate: 23.4\n",
            "Enter the hourly pay rate: 23\n",
            "The pay rate is  23\n"
          ]
        }
      ]
    },
    {
      "cell_type": "markdown",
      "source": [
        "## try/except"
      ],
      "metadata": {
        "id": "qbYXnPLGeY6m"
      },
      "id": "qbYXnPLGeY6m"
    },
    {
      "cell_type": "code",
      "execution_count": null,
      "id": "5f98c241",
      "metadata": {
        "id": "5f98c241",
        "colab": {
          "base_uri": "https://localhost:8080/"
        },
        "outputId": "07146a7f-ac29-4188-a1db-672f3c6fba0b"
      },
      "outputs": [
        {
          "output_type": "stream",
          "name": "stdout",
          "text": [
            "Enter the hourly pay rate: 23e\n",
            "Please enter a valid input for pay rate. Pay rate must be numric value.\n"
          ]
        }
      ],
      "source": [
        "try:\n",
        "    pay_rate = float(input(\"Enter the hourly pay rate: \"))\n",
        "except:\n",
        "  print(\"Please enter a valid input for pay rate. Pay rate must be numric value.\")\n",
        "  "
      ]
    },
    {
      "cell_type": "code",
      "source": [
        "try:\n",
        "    pay_rate = float(input(\"Enter the hourly pay rate: \"))\n",
        "except ValueError:\n",
        "  print(ValueError, \"Please enter a valid input for pay rate. Pay rate must be numric value.\")"
      ],
      "metadata": {
        "id": "zrBmlwko8D6Z",
        "colab": {
          "base_uri": "https://localhost:8080/"
        },
        "outputId": "75193972-ae93-4a96-be19-664b94e2c500"
      },
      "id": "zrBmlwko8D6Z",
      "execution_count": null,
      "outputs": [
        {
          "output_type": "stream",
          "name": "stdout",
          "text": [
            "Enter the hourly pay rate: 23e\n",
            "<class 'ValueError'> Please enter a valid input for pay rate. Pay rate must be numric value.\n"
          ]
        }
      ]
    },
    {
      "cell_type": "code",
      "source": [
        "try:\n",
        "    pay_rate = float(input(\"Enter the hourly pay rate: \"))\n",
        "except ValueError:\n",
        "  print(\"Please enter a valid input for pay rate. Pay rate must be numric value.\")\n",
        "except ZeroDivisionError as err:\n",
        "  print(\"Handing run-time error:\", err)\n",
        "except:\n",
        "  print(\"Error occured. Please check your input\")"
      ],
      "metadata": {
        "colab": {
          "base_uri": "https://localhost:8080/"
        },
        "id": "GDWcRallAjkv",
        "outputId": "131530ba-cb6e-4072-b407-c903d5699147"
      },
      "id": "GDWcRallAjkv",
      "execution_count": null,
      "outputs": [
        {
          "output_type": "stream",
          "name": "stdout",
          "text": [
            "Enter the hourly pay rate: 23e\n",
            "Please enter a valid input for pay rate. Pay rate must be numric value.\n"
          ]
        }
      ]
    },
    {
      "cell_type": "code",
      "source": [
        "\n",
        "while True:\n",
        "  try:\n",
        "      pay_rate = float(input(\"Enter the hourly pay rate: \"))\n",
        "      break\n",
        "  except ValueError:\n",
        "    print(\"Please enter a valid input for pay rate. Pay rate must be numric value.\")\n",
        "  except ZeroDivisionError as err:\n",
        "    print(\"Handing run-time error:\", err)\n",
        "  except:\n",
        "    print(\"Error occured. Please check your input\")"
      ],
      "metadata": {
        "id": "qRFaBbyZBquV",
        "outputId": "b95cbea8-c795-48a0-d49c-40ff499b13da",
        "colab": {
          "base_uri": "https://localhost:8080/"
        }
      },
      "id": "qRFaBbyZBquV",
      "execution_count": null,
      "outputs": [
        {
          "name": "stdout",
          "output_type": "stream",
          "text": [
            "Enter the hourly pay rate: 25\n"
          ]
        }
      ]
    },
    {
      "cell_type": "markdown",
      "id": "18c00dc3",
      "metadata": {
        "id": "18c00dc3"
      },
      "source": [
        "## Module: PyInputPlus"
      ]
    },
    {
      "cell_type": "code",
      "execution_count": null,
      "id": "dfe1740b",
      "metadata": {
        "id": "dfe1740b",
        "colab": {
          "base_uri": "https://localhost:8080/"
        },
        "outputId": "e528928c-146a-4b2f-ba01-60f535c2791e"
      },
      "outputs": [
        {
          "output_type": "stream",
          "name": "stdout",
          "text": [
            "Looking in indexes: https://pypi.org/simple, https://us-python.pkg.dev/colab-wheels/public/simple/\n",
            "Requirement already satisfied: PyinputPlus in /usr/local/lib/python3.7/dist-packages (0.2.12)\n",
            "Requirement already satisfied: pysimplevalidate>=0.2.7 in /usr/local/lib/python3.7/dist-packages (from PyinputPlus) (0.2.12)\n",
            "Requirement already satisfied: stdiomask>=0.0.3 in /usr/local/lib/python3.7/dist-packages (from PyinputPlus) (0.0.6)\n"
          ]
        }
      ],
      "source": [
        "pip install PyinputPlus"
      ]
    },
    {
      "cell_type": "code",
      "source": [
        "import pyinputplus as pyip\n",
        "\n",
        "payRate = pyip.inputFloat(\"Enter the pay rate: \")\n",
        "print(\"The pay rate is \", payRate)"
      ],
      "metadata": {
        "id": "OvqPitIkh379",
        "colab": {
          "base_uri": "https://localhost:8080/"
        },
        "outputId": "cb47837d-4c1a-4a48-ed64-3ae3cc8c96e0"
      },
      "id": "OvqPitIkh379",
      "execution_count": null,
      "outputs": [
        {
          "output_type": "stream",
          "name": "stdout",
          "text": [
            "Enter the pay rate: 23r\n",
            "'23r' is not a float.\n",
            "Enter the pay rate: 23\n",
            "The pay rate is  23.0\n"
          ]
        }
      ]
    },
    {
      "cell_type": "code",
      "source": [
        "import pyinputplus as pyip\n",
        "\n",
        "while True:\n",
        "  payRate = pyip.inputFloat(\"Enter the pay rate: \")\n",
        "  print(\"The pay rate is \", payRate)\n",
        "\n",
        "  response = pyip.inputYesNo(\"\\nDo you want to continue?\")\n",
        "  if response == 'no':\n",
        "    break"
      ],
      "metadata": {
        "colab": {
          "base_uri": "https://localhost:8080/"
        },
        "id": "Q0nttxr1D4y2",
        "outputId": "14abf7cd-5581-4357-d3e6-68fe69e493fc"
      },
      "id": "Q0nttxr1D4y2",
      "execution_count": null,
      "outputs": [
        {
          "name": "stdout",
          "output_type": "stream",
          "text": [
            "Enter the pay rate: 23\n",
            "The pay rate is  23.0\n",
            "\n",
            "Do you want to continue?n\n"
          ]
        }
      ]
    },
    {
      "cell_type": "markdown",
      "source": [
        "# Task: Implement input validation for Pay slip program\n",
        "\n",
        "- forthnightly payslip for hourly paid employee\n",
        "- pay after tax each forthnight\n",
        "\n",
        "任务:实现工资单程序的输入验证\n",
        "每小时计酬员工的夜间工资单\n",
        "每晚付税后款"
      ],
      "metadata": {
        "id": "C2lOxtVxAbUf"
      },
      "id": "C2lOxtVxAbUf"
    },
    {
      "cell_type": "code",
      "source": [
        "\n",
        "\n",
        "salaryStr = (input (\"Enter the forthnightly payslip for hourly paid employee: \"))\n",
        "\n",
        "salary = 0\n",
        "if salaryStr.isdigit():\n",
        "    #float(salaryStr)\n",
        "    salary = int(salaryStr)\n",
        "    print(\"The forthnightly payslip for hourly paid employee is \", salary)\n",
        "else:\n",
        "  print(\"Invalid input for hourly paid employee. Please enter a numeric value for hourly paid employee.\")\n",
        "\n",
        "print(\"The forthnightly payslip for hourly paid employee is \",salary)"
      ],
      "metadata": {
        "id": "9gKjqPdFZpdg",
        "outputId": "89de99e2-3047-4e5f-bef4-7cd2dbdcf54a",
        "colab": {
          "base_uri": "https://localhost:8080/"
        }
      },
      "id": "9gKjqPdFZpdg",
      "execution_count": null,
      "outputs": [
        {
          "output_type": "stream",
          "name": "stdout",
          "text": [
            "Enter the forthnightly payslip for hourly paid employee: 50\n",
            "The forthnightly payslip for hourly paid employee is  50\n",
            "The forthnightly payslip for hourly paid employee is  50\n"
          ]
        }
      ]
    },
    {
      "cell_type": "code",
      "source": [
        "while True:\n",
        "  try:\n",
        "      pay_rate = float(input(\"Enter the pay after tax each forthnight: \"))\n",
        "      break\n",
        "  except ValueError:\n",
        "    print(\"Please enter a valid input for pay after tax each forthnight. Pay after tax each forthnight must be numric value.\")\n",
        "  except ZeroDivisionError as err:\n",
        "    print(\"Handing run-time error:\", err)\n",
        "  except:\n",
        "    print(\"Error occured. Please check your input\")"
      ],
      "metadata": {
        "id": "yO2iPNG9dRbG",
        "outputId": "9bd743dc-84d9-432e-a8c2-2a310a88ee41",
        "colab": {
          "base_uri": "https://localhost:8080/"
        }
      },
      "id": "yO2iPNG9dRbG",
      "execution_count": null,
      "outputs": [
        {
          "name": "stdout",
          "output_type": "stream",
          "text": [
            "Enter the pay after tax each forthnight: 30\n"
          ]
        }
      ]
    },
    {
      "cell_type": "code",
      "source": [
        "import prettytable as pt\n",
        "\n",
        "payslip = pt.PrettyTable()\n",
        "\n",
        "employer_name = input(\"please entern employer’s name:\")\n",
        "\n",
        "# Get the employee’s name\n",
        "employee_name = input(\"please entern employee’s name:\")\n",
        "\n",
        "# Get the employer’s Australian Business Number\n",
        "employer_Australian_Business_Number = input(\"please entern employer’s Australian Business Number:\")\n",
        "the_begin_pay_period = input(\"please enter the begin pay period\")\n",
        "the_end_pay_period = input(\"please enter the end pay period\")\n",
        "\n",
        "# Get the date of payment\n",
        "the_date_of_payment = input(\"please enter the date of payment\")\n",
        "\n",
        "# Get the hourly pay\n",
        "hourly_pay = float(input(\"Enter the hourly pay \"))\n",
        "\n",
        "# Get the hours worked\n",
        "hours_worked = float(input(\"Enter the hours worked: \"))\n",
        "yearly_income = hourly_pay * hours_worked\n",
        "print(\"The yearly income is:\",  yearly_income)\n",
        "\n",
        "payslip.field_names = ([\"employer name:\", employer_name, \"ABN:\", employer_Australian_Business_Number, \"date of payment:\", the_begin_pay_period, \"work period\", the_end_pay_period])\n",
        "payslip.add_row([\"employee_name\", employee_name, \"hourly pay\", hourly_pay, \"hours worked\", hours_worked, \"yearly income\", yearly_income ])\n",
        "payslip.add_row([\"yearly tax payable\", yearly_tax_payable, \"net pay\", net_pay, \"\", \"\", \"\"])\n",
        "\n",
        "print(payslip)"
      ],
      "metadata": {
        "id": "keyk6mIzvcxm",
        "outputId": "931aa10a-2ee0-4364-fc0e-6dc9a6cf9ec5",
        "colab": {
          "base_uri": "https://localhost:8080/",
          "height": 423
        }
      },
      "id": "keyk6mIzvcxm",
      "execution_count": 3,
      "outputs": [
        {
          "output_type": "stream",
          "name": "stdout",
          "text": [
            "please entern employer’s name:yixiao\n",
            "please entern employee’s name:seelisher\n",
            "please entern employer’s Australian Business Number:2052\n",
            "please enter the begin pay period2022.1.1\n",
            "please enter the end pay period2022.12.1\n",
            "please enter the date of payment320\n",
            "Enter the hourly pay 50\n",
            "Enter the hours worked: 2000\n",
            "The yearly income is: 100000.0\n"
          ]
        },
        {
          "output_type": "error",
          "ename": "NameError",
          "evalue": "ignored",
          "traceback": [
            "\u001b[0;31m---------------------------------------------------------------------------\u001b[0m",
            "\u001b[0;31mNameError\u001b[0m                                 Traceback (most recent call last)",
            "\u001b[0;32m<ipython-input-3-5999b82eafde>\u001b[0m in \u001b[0;36m<module>\u001b[0;34m\u001b[0m\n\u001b[1;32m     26\u001b[0m \u001b[0mpayslip\u001b[0m\u001b[0;34m.\u001b[0m\u001b[0mfield_names\u001b[0m \u001b[0;34m=\u001b[0m \u001b[0;34m(\u001b[0m\u001b[0;34m[\u001b[0m\u001b[0;34m\"employer name:\"\u001b[0m\u001b[0;34m,\u001b[0m \u001b[0memployer_name\u001b[0m\u001b[0;34m,\u001b[0m \u001b[0;34m\"ABN:\"\u001b[0m\u001b[0;34m,\u001b[0m \u001b[0memployer_Australian_Business_Number\u001b[0m\u001b[0;34m,\u001b[0m \u001b[0;34m\"date of payment:\"\u001b[0m\u001b[0;34m,\u001b[0m \u001b[0mthe_begin_pay_period\u001b[0m\u001b[0;34m,\u001b[0m \u001b[0;34m\"work period\"\u001b[0m\u001b[0;34m,\u001b[0m \u001b[0mthe_end_pay_period\u001b[0m\u001b[0;34m]\u001b[0m\u001b[0;34m)\u001b[0m\u001b[0;34m\u001b[0m\u001b[0;34m\u001b[0m\u001b[0m\n\u001b[1;32m     27\u001b[0m \u001b[0mpayslip\u001b[0m\u001b[0;34m.\u001b[0m\u001b[0madd_row\u001b[0m\u001b[0;34m(\u001b[0m\u001b[0;34m[\u001b[0m\u001b[0;34m\"employee_name\"\u001b[0m\u001b[0;34m,\u001b[0m \u001b[0memployee_name\u001b[0m\u001b[0;34m,\u001b[0m \u001b[0;34m\"hourly pay\"\u001b[0m\u001b[0;34m,\u001b[0m \u001b[0mhourly_pay\u001b[0m\u001b[0;34m,\u001b[0m \u001b[0;34m\"hours worked\"\u001b[0m\u001b[0;34m,\u001b[0m \u001b[0mhours_worked\u001b[0m\u001b[0;34m,\u001b[0m \u001b[0;34m\"yearly income\"\u001b[0m\u001b[0;34m,\u001b[0m \u001b[0myearly_income\u001b[0m \u001b[0;34m]\u001b[0m\u001b[0;34m)\u001b[0m\u001b[0;34m\u001b[0m\u001b[0;34m\u001b[0m\u001b[0m\n\u001b[0;32m---> 28\u001b[0;31m \u001b[0mpayslip\u001b[0m\u001b[0;34m.\u001b[0m\u001b[0madd_row\u001b[0m\u001b[0;34m(\u001b[0m\u001b[0;34m[\u001b[0m\u001b[0;34m\"yearly tax payable\"\u001b[0m\u001b[0;34m,\u001b[0m \u001b[0myearly_tax_payable\u001b[0m\u001b[0;34m,\u001b[0m \u001b[0;34m\"net pay\"\u001b[0m\u001b[0;34m,\u001b[0m \u001b[0mnet_pay\u001b[0m\u001b[0;34m,\u001b[0m \u001b[0;34m\"\"\u001b[0m\u001b[0;34m,\u001b[0m \u001b[0;34m\"\"\u001b[0m\u001b[0;34m,\u001b[0m \u001b[0;34m\"\"\u001b[0m\u001b[0;34m]\u001b[0m\u001b[0;34m)\u001b[0m\u001b[0;34m\u001b[0m\u001b[0;34m\u001b[0m\u001b[0m\n\u001b[0m\u001b[1;32m     29\u001b[0m \u001b[0;34m\u001b[0m\u001b[0m\n\u001b[1;32m     30\u001b[0m \u001b[0mprint\u001b[0m\u001b[0;34m(\u001b[0m\u001b[0mpayslip\u001b[0m\u001b[0;34m)\u001b[0m\u001b[0;34m\u001b[0m\u001b[0;34m\u001b[0m\u001b[0m\n",
            "\u001b[0;31mNameError\u001b[0m: name 'yearly_tax_payable' is not defined"
          ]
        }
      ]
    }
  ],
  "metadata": {
    "kernelspec": {
      "display_name": "Python 3 (ipykernel)",
      "language": "python",
      "name": "python3"
    },
    "language_info": {
      "codemirror_mode": {
        "name": "ipython",
        "version": 3
      },
      "file_extension": ".py",
      "mimetype": "text/x-python",
      "name": "python",
      "nbconvert_exporter": "python",
      "pygments_lexer": "ipython3",
      "version": "3.9.6"
    },
    "colab": {
      "name": "05_input_validation.ipynb",
      "provenance": [],
      "include_colab_link": true
    }
  },
  "nbformat": 4,
  "nbformat_minor": 5
}