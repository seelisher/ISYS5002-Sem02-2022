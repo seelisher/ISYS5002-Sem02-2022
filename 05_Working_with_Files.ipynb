{
  "cells": [
    {
      "cell_type": "markdown",
      "metadata": {
        "id": "view-in-github",
        "colab_type": "text"
      },
      "source": [
        "<a href=\"https://colab.research.google.com/github/seelisher/ISYS5002_Yixiao-Li_20526379_Homework/blob/main/05_Working_with_Files.ipynb\" target=\"_parent\"><img src=\"https://colab.research.google.com/assets/colab-badge.svg\" alt=\"Open In Colab\"/></a>"
      ]
    },
    {
      "cell_type": "markdown",
      "metadata": {
        "id": "b5IJBQVMWWWZ"
      },
      "source": [
        "# **File Input & Output**\n",
        "For program to retain data between the times it is run, you must save the data\n",
        "- Data is saved to a file, typically on computer disk\n",
        "- Saved data can be retrieved and used at a later time\n",
        "\n",
        "“***Writing data to***”: saving data on a file\n",
        "<br>***Output file***: a file that data is written to\n",
        "<br>*“**Reading data from**”*: process of retrieving data from a file\n",
        "<br>***Input file***: a file from which data is read\n",
        "\n",
        "Three steps when a program uses a file\n",
        "- Open the file\n",
        "- Process the file\n",
        "- Close the file\n",
        "\n",
        "**Types of files**\n",
        "<br>\n",
        "- A **text file** is a sequence of characters\n",
        "- A **binary file** (for images, videos and more) is a sequence of bytes\n",
        "- First character in a text file or byte in a binary file is located at position 0\n",
        "  - In a file of n characters or bytes, the highest position number is n – 1 (**end-of-file marker**)\n",
        "- For each file you **open**, Python creates a **file object** that you’ll use to interact with the file\n",
        "\n",
        "\n",
        "**Comma-separated values (CSV) file**\n",
        "- CSV files are the most common format used for importing and exporting data from spreadsheets and databases.\n",
        "- CSV files are text files that have delimiters. A delimiter is a character that separates data values.\n",
        "\n"
      ]
    },
    {
      "cell_type": "markdown",
      "metadata": {
        "id": "p9aQsBRQxt7k"
      },
      "source": [
        "# Text File"
      ]
    },
    {
      "cell_type": "markdown",
      "source": [
        "## File `open` Function\n",
        "\n",
        "`file_variable = open(filename, mode)`\n",
        "\n",
        "**Mode**: string specifying how the file will be opened\n",
        "\n",
        "Example: reading only ('r'), writing ('w'), and appending ('a')\n",
        "\n",
        "\n",
        "https://www.w3schools.com/python/python_file_handling.asp"
      ],
      "metadata": {
        "id": "MfuOy9XdK7yR"
      }
    },
    {
      "cell_type": "code",
      "execution_count": null,
      "metadata": {
        "id": "pIxETi9m8Ghq"
      },
      "outputs": [],
      "source": [
        "#open a file named customers.txt\n",
        "file = open(\"customers.txt\", 'w')"
      ]
    },
    {
      "cell_type": "markdown",
      "metadata": {
        "id": "oO9aBCoBvb5x"
      },
      "source": [
        "### Writing Text File"
      ]
    },
    {
      "cell_type": "code",
      "execution_count": null,
      "metadata": {
        "id": "LEdRqwURsHBb"
      },
      "outputs": [],
      "source": [
        "### Create a text file named accounts.txt for writing ###\n",
        "\n",
        "#open file in write mode\n",
        "file = open(\"accounts.txt\", 'w')\n",
        "\n",
        "#write three customers names into the file\n",
        "file.write(\"David Jones\\n\")\n",
        "file.write(\"Sarah Bush\\n\")\n",
        "\n",
        "#writes the items of a list to the file\n",
        "file.writelines(\"Peter Bull\\nBaebara Seth\")\n",
        "\n",
        "#close the file\n",
        "file.close()\n"
      ]
    },
    {
      "cell_type": "markdown",
      "source": [
        "### Reading Text File"
      ],
      "metadata": {
        "id": "qVEQ7k4WLeJ5"
      }
    },
    {
      "cell_type": "code",
      "execution_count": null,
      "metadata": {
        "id": "JtZjegwUsUss",
        "colab": {
          "base_uri": "https://localhost:8080/"
        },
        "outputId": "4f745bde-5bb0-4be0-fcfd-ee55d304524d"
      },
      "outputs": [
        {
          "output_type": "stream",
          "name": "stdout",
          "text": [
            "David Jones\n",
            "\n",
            "Sarah Bush\n",
            "\n",
            "Peter Bull\n",
            "\n",
            "Baebara Seth\n"
          ]
        }
      ],
      "source": [
        "### Reading data from a text file - customers.txt ###\n",
        "\n",
        "#open file in read mode\n",
        "file = open(\"accounts.txt\", 'r')\n",
        "\n",
        "#print the records read from the file\n",
        "print(file.readline())\n",
        "print(file.readline())\n",
        "\n",
        "#print each line iteratively\n",
        "for row in file:\n",
        "   print(row)\n",
        "\n",
        "#close file\n",
        "file.close()\n"
      ]
    },
    {
      "cell_type": "markdown",
      "metadata": {
        "id": "lmYx04AD6YnM"
      },
      "source": [
        "### Writing & Reading with the `with` statement\n",
        "\n",
        "- Acquires a resource and assigns its corresponding object to a variable\n",
        "- Allows the application to use the resource via that variable\n",
        "- Calls the resource object’s close method to release the resource\n",
        "\n",
        "Advantage of using a `with` statement with a file open is that when the `with` statement code block ends, the file closes.\n",
        "\n",
        "At the end of the with statement’s suite, the `with` statement *implicitly* calls the file object’s `close` method to close the file\n",
        "\n",
        "**Records**\n",
        "* 100 Jones 24.98 \n",
        "* 200 Doe 345.67 \n",
        "* 300 Williams 0.00 \n",
        "* 400 Stone -42.16 \n",
        "* 500 Rich 224.62"
      ]
    },
    {
      "cell_type": "code",
      "execution_count": null,
      "metadata": {
        "id": "mc2NDGan6pQi"
      },
      "outputs": [],
      "source": [
        "### Write and reading from file using 'with' statement ###\n",
        "\n",
        "# Open file for writing and write records\n",
        "with open(\"accounts.txt\", 'w') as account:\n",
        "  account.write('100 Jones 24.98\\n')\n",
        "  account.write('200 Doe 345.67\\n')\n",
        "  account.write('300 Williams 0.00\\n')\n",
        "  account.write('400 Stone -42.16\\n')\n",
        "  account.write('500 Rich 224.62\\n')\n"
      ]
    },
    {
      "cell_type": "code",
      "source": [
        "### Reading from file ###\n",
        "with open(\"accounts.txt\",'r') as accountsRead:\n",
        "  \n",
        "  print(f'{\"AccountID\":10}{\"Name\":8}{\"Balance\":8}')\n",
        "  for record in accountsRead:\n",
        "    #print(record) #print out each lines as strings\n",
        "\n",
        "   accountID, name, balace = record.split() #unpack the data into three variables\n",
        "   #print(accountID, name, balance)\n",
        "   print(f'{\"AccountID\":10}{\"Name\":10}{\"Balance\":8}')\n",
        "    "
      ],
      "metadata": {
        "id": "FCiqOGDUu6-t",
        "colab": {
          "base_uri": "https://localhost:8080/"
        },
        "outputId": "50279561-951d-4500-a795-cdc50224c6ff"
      },
      "execution_count": null,
      "outputs": [
        {
          "output_type": "stream",
          "name": "stdout",
          "text": [
            "AccountID Name    Balance \n",
            "AccountID Name      Balance \n",
            "AccountID Name      Balance \n",
            "AccountID Name      Balance \n",
            "AccountID Name      Balance \n",
            "AccountID Name      Balance \n"
          ]
        }
      ]
    },
    {
      "cell_type": "code",
      "source": [
        "### Reading from file ###\n",
        "with open(\"accounts.txt\",'r')as accountsRead:\n",
        "\n",
        "  print(f'{\"AccountID\":10}{\"Name\":8}{\"Balance\":8}')\n",
        "  for record in accountsRead:\n",
        "    #print(record)\n",
        "\n",
        "   accountID, name, balance = record.split()\n",
        "   #print(accountID, name, balance)\n",
        "   print(f'{accountID:10}{name:10}{balance:8}')"
      ],
      "metadata": {
        "colab": {
          "base_uri": "https://localhost:8080/"
        },
        "id": "OfCP15yUNavr",
        "outputId": "4038f588-f892-4921-d566-b56d91c5f847"
      },
      "execution_count": null,
      "outputs": [
        {
          "output_type": "stream",
          "name": "stdout",
          "text": [
            "AccountID Name    Balance \n",
            "100       Jones     24.98   \n",
            "200       Doe       345.67  \n",
            "300       Williams  0.00    \n",
            "400       Stone     -42.16  \n",
            "500       Rich      224.62  \n"
          ]
        }
      ]
    },
    {
      "cell_type": "markdown",
      "source": [
        "# Module CSV"
      ],
      "metadata": {
        "id": "BieUazgSLMeI"
      }
    },
    {
      "cell_type": "markdown",
      "metadata": {
        "id": "KiOs3fgB9CD8"
      },
      "source": [
        "## Reading and Writing CSV file\n",
        "\n",
        "Text files work fine when we are referencing small amounts of information, but when we use larger amounts of data, adding structure helps in organizing and retrieving values. \n",
        "\n",
        "One common format found in business and social sciences alike (as well as any field concerned with data science) is the comma-separated values (CSV) format. \n",
        "\n",
        "**CSV files** are the most common format used for importing and exporting data from spreadsheets and databases. \n",
        "\n",
        "CSV files are text files that have delimiters.  A **delimiter** is a character that separates data values. \n",
        "\n",
        "You can explore CSV files in spreadsheet software (such as Microsoft Excel), which will remove delimiters (usually commas) and store data values in separate cells.\n",
        "\n",
        "\n",
        "One of the benefits of importing data files such as CSV files is the ability to read in a lot of data at once, parsing the data so your code can access individual values within the data. **By default, CSV files use commas (“,”) to separate data values**.\n",
        "\n"
      ]
    },
    {
      "cell_type": "markdown",
      "metadata": {
        "id": "-gWkazAAcPvU"
      },
      "source": [
        "Python **CSV module** provides functions for working with CSV files"
      ]
    },
    {
      "cell_type": "code",
      "execution_count": null,
      "metadata": {
        "id": "RLTFUeGPDrfG"
      },
      "outputs": [],
      "source": [
        "### Writing to a CSV file ###\n",
        "\n",
        "#import csv module\n",
        "import csv\n",
        "\n",
        "#open file and write records\n",
        "with open(\"account.csv\", 'w') as acc:\n",
        "  writer = csv.writer(acc)\n",
        "  writer.writerow([100, 'Jones',24.98])\n",
        "  writer.writerow([200, 'Doe', 345.67])\n",
        "  writer.writerow([300, 'Williams', 0.00])\n",
        "  writer.writerow([400, 'Stone', -42.16])\n",
        "  writer.writerow([500, 'Rich', 224.62])"
      ]
    },
    {
      "cell_type": "code",
      "execution_count": null,
      "metadata": {
        "id": "IFTbzVzFeYz_",
        "colab": {
          "base_uri": "https://localhost:8080/"
        },
        "outputId": "f76f7d8e-4288-4dc6-f3a9-0fa424b8b8d4"
      },
      "outputs": [
        {
          "output_type": "stream",
          "name": "stdout",
          "text": [
            "100       Jones     24.98   \n",
            "200       Doe       345.67  \n",
            "300       Williams  0.0     \n",
            "400       Stone     -42.16  \n",
            "500       Rich      224.62  \n"
          ]
        }
      ],
      "source": [
        "### Reading from CSV file ###\n",
        "\n",
        "#The csv module’s reader function returns an object that reads CSV-format data from the specified file object\n",
        "import csv\n",
        "\n",
        "#open file and read records\n",
        "with open(\"account.csv\",'r')as accRead:\n",
        "  reader = csv.reader(accRead)\n",
        "\n",
        "  for record in reader:\n",
        "    #print(record)\n",
        "    id, name, bal = record\n",
        "    print(f'{id:10}{name:10}{bal:8}')\n",
        "\n",
        "#open file and write records\n",
        "\n"
      ]
    },
    {
      "cell_type": "markdown",
      "source": [
        "## Getting data from financial website"
      ],
      "metadata": {
        "id": "g2lwtt9bRI4C"
      }
    },
    {
      "cell_type": "code",
      "source": [
        "!curl \"https://query1.finance.yahoo.com/v7/finance/download/NAB.AX?period1=1653004800&period2=1661040000&interval=1d&events=history&includeAdjustedClose=true\" > NABData.csv"
      ],
      "metadata": {
        "id": "fLGruaTOrSvD",
        "colab": {
          "base_uri": "https://localhost:8080/"
        },
        "outputId": "6cd13106-004f-45aa-8f3b-85bdf32ca90e"
      },
      "execution_count": null,
      "outputs": [
        {
          "output_type": "stream",
          "name": "stdout",
          "text": [
            "  % Total    % Received % Xferd  Average Speed   Time    Time     Time  Current\n",
            "                                 Dload  Upload   Total   Spent    Left  Speed\n",
            "\r  0     0    0     0    0     0      0      0 --:--:-- --:--:-- --:--:--     0\r100  4531  100  4531    0     0  28859      0 --:--:-- --:--:-- --:--:-- 28859\n"
          ]
        }
      ]
    },
    {
      "cell_type": "code",
      "source": [
        "!curl \"https://query1.finance.yahoo.com/v7/finance/download/NAB.AX?period1=1629621979&period2=1661157979&interval=1d&events=history&includeAdjustedClose=true\"> NABData.csv"
      ],
      "metadata": {
        "colab": {
          "base_uri": "https://localhost:8080/"
        },
        "id": "fYFRZDndSekP",
        "outputId": "ca06a951-e5cb-4820-d026-cd9fd2aff2c3"
      },
      "execution_count": null,
      "outputs": [
        {
          "output_type": "stream",
          "name": "stdout",
          "text": [
            "  % Total    % Received % Xferd  Average Speed   Time    Time     Time  Current\n",
            "                                 Dload  Upload   Total   Spent    Left  Speed\n",
            "\r  0     0    0     0    0     0      0      0 --:--:-- --:--:-- --:--:--     0\r100 17513    0 17513    0     0   118k      0 --:--:-- --:--:-- --:--:--  119k\n"
          ]
        }
      ]
    },
    {
      "cell_type": "code",
      "source": [
        "import csv\n",
        "\n",
        "# open file and write records\n",
        "with open(\"NABData.csv\", 'r') as data:\n",
        "  reader = csv.reader(data)\n",
        "  print(next(reader))\n",
        "  print(next(reader))\n",
        "  print(next(reader))\n"
      ],
      "metadata": {
        "id": "8Mr72pnuwVt-",
        "colab": {
          "base_uri": "https://localhost:8080/"
        },
        "outputId": "ea46d97f-f84d-4d51-9e7f-4e6f3e3ab1e5"
      },
      "execution_count": null,
      "outputs": [
        {
          "output_type": "stream",
          "name": "stdout",
          "text": [
            "['Date', 'Open', 'High', 'Low', 'Close', 'Adj Close', 'Volume']\n",
            "['2021-08-23', '27.459999', '27.520000', '27.299999', '27.389999', '26.160580', '3749665']\n",
            "['2021-08-24', '27.410000', '27.450001', '27.309999', '27.400000', '26.170130', '3468022']\n"
          ]
        }
      ]
    },
    {
      "cell_type": "code",
      "source": [
        "import csv\n",
        "\n",
        "date = []\n",
        "close = []\n",
        "# open file and write records\n",
        "with open(\"NABData.csv\", 'r') as data:\n",
        "  reader = csv.reader(data)\n",
        "  header = next(reader)\n",
        "  for record in reader:\n",
        "    date.append(record[0])\n",
        "    close.append(float(record[5]))\n",
        "    ctr = ctr = 1\n",
        "    if ctr == 5:\n",
        "      break\n",
        "\n",
        "print(data)\n",
        "\n",
        "# plot the results\n",
        "from matplotlib import pyplot as plt\n",
        "f = plt.figure()\n",
        "f.set_figwidth(20)\n",
        "f.set_figheight(5)\n",
        "plt.plot(date, close)\n",
        "\n"
      ],
      "metadata": {
        "id": "BWv-WdWQrrIE",
        "colab": {
          "base_uri": "https://localhost:8080/",
          "height": 324
        },
        "outputId": "b60fbfe6-9de6-4a1f-e96f-4dca8bdae42b"
      },
      "execution_count": null,
      "outputs": [
        {
          "output_type": "stream",
          "name": "stdout",
          "text": [
            "<_io.TextIOWrapper name='NABData.csv' mode='r' encoding='UTF-8'>\n"
          ]
        },
        {
          "output_type": "execute_result",
          "data": {
            "text/plain": [
              "[<matplotlib.lines.Line2D at 0x7f6ac2272310>]"
            ]
          },
          "metadata": {},
          "execution_count": 50
        },
        {
          "output_type": "display_data",
          "data": {
            "text/plain": [
              "<Figure size 1440x360 with 1 Axes>"
            ],
            "image/png": "[encoded data removed]"
          },
          "metadata": {
            "needs_background": "light"
          }
        }
      ]
    },
    {
      "cell_type": "markdown",
      "source": [
        "# Module Pandas"
      ],
      "metadata": {
        "id": "3urnKWF4LPwK"
      }
    },
    {
      "cell_type": "markdown",
      "metadata": {
        "id": "fKUibINgWaEg"
      },
      "source": [
        "## Using Pandas Module to Read in CSV Files (the “Easy Way”)\n",
        "\n",
        "An easier method of importing files into Python is using the **Pandas** module. Pandas (name derived from “panel data”) is a data analysis library that, among other things, makes reading in CSV files and accessing the contained data much easier \n",
        "\n",
        "The primary data structure used in Pandas are a ***DataFrame***. A DataFrame has a *two-dimensional tabular format using rows and columns*. Using a DataFrame, we can reference columns by name, rather than having to count to figure out which column number we want. Pandas provides an assortment of methods like .mean() that will do summary statistics on our data\n",
        "\n",
        " \n",
        "Read From a CSV File Using Pandas\n",
        "\n",
        "Source: *Kaefer, F., & Kaefer, P. (2020). Introduction to Python \n",
        "Programming for Business and Social Science Applications. SAGE Publications, Inc. (US).*"
      ]
    },
    {
      "cell_type": "code",
      "source": [
        "!curl \"https://query1.finance.yahoo.com/v7/finance/download/BHP.AX?period1=1629553321&period2=1661089321&interval=1d&events=history&includeAdjustedClose=true\" > BHPData.csv"
      ],
      "metadata": {
        "id": "RNGquOZONfU8",
        "outputId": "7b62713e-7ffb-419c-e101-27a1d15fca88",
        "colab": {
          "base_uri": "https://localhost:8080/"
        }
      },
      "execution_count": 4,
      "outputs": [
        {
          "output_type": "stream",
          "name": "stdout",
          "text": [
            "  % Total    % Received % Xferd  Average Speed   Time    Time     Time  Current\n",
            "                                 Dload  Upload   Total   Spent    Left  Speed\n",
            "\r  0     0    0     0    0     0      0      0 --:--:-- --:--:-- --:--:--     0\r100 17550    0 17550    0     0   126k      0 --:--:-- --:--:-- --:--:--  126k\n"
          ]
        }
      ]
    },
    {
      "cell_type": "code",
      "execution_count": 12,
      "metadata": {
        "id": "O0aJQTGiM0Tc",
        "outputId": "c1e71823-9575-4b55-87a2-58d6092cd324",
        "colab": {
          "base_uri": "https://localhost:8080/",
          "height": 906
        }
      },
      "outputs": [
        {
          "output_type": "stream",
          "name": "stdout",
          "text": [
            "           Date       Open       High        Low      Close  Adj Close  \\\n",
            "0    2021-08-23  44.959999  45.070000  44.200001  44.459999  39.971951   \n",
            "1    2021-08-24  44.860001  45.189999  44.619999  44.919998  40.385513   \n",
            "2    2021-08-25  45.410000  45.740002  45.250000  45.480000  40.888985   \n",
            "3    2021-08-26  45.509998  45.599998  44.900002  44.950001  40.412491   \n",
            "4    2021-08-27  44.889999  45.070000  44.680000  44.700001  40.187725   \n",
            "..          ...        ...        ...        ...        ...        ...   \n",
            "247  2022-08-15  39.180000  39.400002  38.799999  38.919998  38.919998   \n",
            "248  2022-08-16  39.930000  41.049999  39.700001  40.509998  40.509998   \n",
            "249  2022-08-17  41.290001  41.330002  40.430000  40.849998  40.849998   \n",
            "250  2022-08-18  40.680000  41.189999  40.500000  41.150002  41.150002   \n",
            "251  2022-08-19  41.470001  42.000000  41.389999  41.549999  41.549999   \n",
            "\n",
            "       Volume  \n",
            "0    11096534  \n",
            "1     8552123  \n",
            "2     9721644  \n",
            "3     7817371  \n",
            "4     7089293  \n",
            "..        ...  \n",
            "247   6904742  \n",
            "248  13033610  \n",
            "249  11111378  \n",
            "250  10311777  \n",
            "251  14648168  \n",
            "\n",
            "[252 rows x 7 columns]\n"
          ]
        },
        {
          "output_type": "execute_result",
          "data": {
            "text/plain": [
              "           Date       Open       High        Low      Close  Adj Close  \\\n",
              "0    2021-08-23  44.959999  45.070000  44.200001  44.459999  39.971951   \n",
              "1    2021-08-24  44.860001  45.189999  44.619999  44.919998  40.385513   \n",
              "2    2021-08-25  45.410000  45.740002  45.250000  45.480000  40.888985   \n",
              "3    2021-08-26  45.509998  45.599998  44.900002  44.950001  40.412491   \n",
              "4    2021-08-27  44.889999  45.070000  44.680000  44.700001  40.187725   \n",
              "..          ...        ...        ...        ...        ...        ...   \n",
              "247  2022-08-15  39.180000  39.400002  38.799999  38.919998  38.919998   \n",
              "248  2022-08-16  39.930000  41.049999  39.700001  40.509998  40.509998   \n",
              "249  2022-08-17  41.290001  41.330002  40.430000  40.849998  40.849998   \n",
              "250  2022-08-18  40.680000  41.189999  40.500000  41.150002  41.150002   \n",
              "251  2022-08-19  41.470001  42.000000  41.389999  41.549999  41.549999   \n",
              "\n",
              "       Volume  \n",
              "0    11096534  \n",
              "1     8552123  \n",
              "2     9721644  \n",
              "3     7817371  \n",
              "4     7089293  \n",
              "..        ...  \n",
              "247   6904742  \n",
              "248  13033610  \n",
              "249  11111378  \n",
              "250  10311777  \n",
              "251  14648168  \n",
              "\n",
              "[252 rows x 7 columns]"
            ],
            "text/html": [
              "\n",
              "  <div id=\"df-8c2e9ada-cf84-4231-8caa-810488244d09\">\n",
              "    <div class=\"colab-df-container\">\n",
              "      <div>\n",
              "<style scoped>\n",
              "    .dataframe tbody tr th:only-of-type {\n",
              "        vertical-align: middle;\n",
              "    }\n",
              "\n",
              "    .dataframe tbody tr th {\n",
              "        vertical-align: top;\n",
              "    }\n",
              "\n",
              "    .dataframe thead th {\n",
              "        text-align: right;\n",
              "    }\n",
              "</style>\n",
              "<table border=\"1\" class=\"dataframe\">\n",
              "  <thead>\n",
              "    <tr style=\"text-align: right;\">\n",
              "      <th></th>\n",
              "      <th>Date</th>\n",
              "      <th>Open</th>\n",
              "      <th>High</th>\n",
              "      <th>Low</th>\n",
              "      <th>Close</th>\n",
              "      <th>Adj Close</th>\n",
              "      <th>Volume</th>\n",
              "    </tr>\n",
              "  </thead>\n",
              "  <tbody>\n",
              "    <tr>\n",
              "      <th>0</th>\n",
              "      <td>2021-08-23</td>\n",
              "      <td>44.959999</td>\n",
              "      <td>45.070000</td>\n",
              "      <td>44.200001</td>\n",
              "      <td>44.459999</td>\n",
              "      <td>39.971951</td>\n",
              "      <td>11096534</td>\n",
              "    </tr>\n",
              "    <tr>\n",
              "      <th>1</th>\n",
              "      <td>2021-08-24</td>\n",
              "      <td>44.860001</td>\n",
              "      <td>45.189999</td>\n",
              "      <td>44.619999</td>\n",
              "      <td>44.919998</td>\n",
              "      <td>40.385513</td>\n",
              "      <td>8552123</td>\n",
              "    </tr>\n",
              "    <tr>\n",
              "      <th>2</th>\n",
              "      <td>2021-08-25</td>\n",
              "      <td>45.410000</td>\n",
              "      <td>45.740002</td>\n",
              "      <td>45.250000</td>\n",
              "      <td>45.480000</td>\n",
              "      <td>40.888985</td>\n",
              "      <td>9721644</td>\n",
              "    </tr>\n",
              "    <tr>\n",
              "      <th>3</th>\n",
              "      <td>2021-08-26</td>\n",
              "      <td>45.509998</td>\n",
              "      <td>45.599998</td>\n",
              "      <td>44.900002</td>\n",
              "      <td>44.950001</td>\n",
              "      <td>40.412491</td>\n",
              "      <td>7817371</td>\n",
              "    </tr>\n",
              "    <tr>\n",
              "      <th>4</th>\n",
              "      <td>2021-08-27</td>\n",
              "      <td>44.889999</td>\n",
              "      <td>45.070000</td>\n",
              "      <td>44.680000</td>\n",
              "      <td>44.700001</td>\n",
              "      <td>40.187725</td>\n",
              "      <td>7089293</td>\n",
              "    </tr>\n",
              "    <tr>\n",
              "      <th>...</th>\n",
              "      <td>...</td>\n",
              "      <td>...</td>\n",
              "      <td>...</td>\n",
              "      <td>...</td>\n",
              "      <td>...</td>\n",
              "      <td>...</td>\n",
              "      <td>...</td>\n",
              "    </tr>\n",
              "    <tr>\n",
              "      <th>247</th>\n",
              "      <td>2022-08-15</td>\n",
              "      <td>39.180000</td>\n",
              "      <td>39.400002</td>\n",
              "      <td>38.799999</td>\n",
              "      <td>38.919998</td>\n",
              "      <td>38.919998</td>\n",
              "      <td>6904742</td>\n",
              "    </tr>\n",
              "    <tr>\n",
              "      <th>248</th>\n",
              "      <td>2022-08-16</td>\n",
              "      <td>39.930000</td>\n",
              "      <td>41.049999</td>\n",
              "      <td>39.700001</td>\n",
              "      <td>40.509998</td>\n",
              "      <td>40.509998</td>\n",
              "      <td>13033610</td>\n",
              "    </tr>\n",
              "    <tr>\n",
              "      <th>249</th>\n",
              "      <td>2022-08-17</td>\n",
              "      <td>41.290001</td>\n",
              "      <td>41.330002</td>\n",
              "      <td>40.430000</td>\n",
              "      <td>40.849998</td>\n",
              "      <td>40.849998</td>\n",
              "      <td>11111378</td>\n",
              "    </tr>\n",
              "    <tr>\n",
              "      <th>250</th>\n",
              "      <td>2022-08-18</td>\n",
              "      <td>40.680000</td>\n",
              "      <td>41.189999</td>\n",
              "      <td>40.500000</td>\n",
              "      <td>41.150002</td>\n",
              "      <td>41.150002</td>\n",
              "      <td>10311777</td>\n",
              "    </tr>\n",
              "    <tr>\n",
              "      <th>251</th>\n",
              "      <td>2022-08-19</td>\n",
              "      <td>41.470001</td>\n",
              "      <td>42.000000</td>\n",
              "      <td>41.389999</td>\n",
              "      <td>41.549999</td>\n",
              "      <td>41.549999</td>\n",
              "      <td>14648168</td>\n",
              "    </tr>\n",
              "  </tbody>\n",
              "</table>\n",
              "<p>252 rows × 7 columns</p>\n",
              "</div>\n",
              "      <button class=\"colab-df-convert\" onclick=\"convertToInteractive('df-8c2e9ada-cf84-4231-8caa-810488244d09')\"\n",
              "              title=\"Convert this dataframe to an interactive table.\"\n",
              "              style=\"display:none;\">\n",
              "        \n",
              "  <svg xmlns=\"http://www.w3.org/2000/svg\" height=\"24px\"viewBox=\"0 0 24 24\"\n",
              "       width=\"24px\">\n",
              "    <path d=\"M0 0h24v24H0V0z\" fill=\"none\"/>\n",
              "    <path d=\"M18.56 5.44l.94 2.06.94-2.06 2.06-.94-2.06-.94-.94-2.06-.94 2.06-2.06.94zm-11 1L8.5 8.5l.94-2.06 2.06-.94-2.06-.94L8.5 2.5l-.94 2.06-2.06.94zm10 10l.94 2.06.94-2.06 2.06-.94-2.06-.94-.94-2.06-.94 2.06-2.06.94z\"/><path d=\"M17.41 7.96l-1.37-1.37c-.4-.4-.92-.59-1.43-.59-.52 0-1.04.2-1.43.59L10.3 9.45l-7.72 7.72c-.78.78-.78 2.05 0 2.83L4 21.41c.39.39.9.59 1.41.59.51 0 1.02-.2 1.41-.59l7.78-7.78 2.81-2.81c.8-.78.8-2.07 0-2.86zM5.41 20L4 18.59l7.72-7.72 1.47 1.35L5.41 20z\"/>\n",
              "  </svg>\n",
              "      </button>\n",
              "      \n",
              "  <style>\n",
              "    .colab-df-container {\n",
              "      display:flex;\n",
              "      flex-wrap:wrap;\n",
              "      gap: 12px;\n",
              "    }\n",
              "\n",
              "    .colab-df-convert {\n",
              "      background-color: #E8F0FE;\n",
              "      border: none;\n",
              "      border-radius: 50%;\n",
              "      cursor: pointer;\n",
              "      display: none;\n",
              "      fill: #1967D2;\n",
              "      height: 32px;\n",
              "      padding: 0 0 0 0;\n",
              "      width: 32px;\n",
              "    }\n",
              "\n",
              "    .colab-df-convert:hover {\n",
              "      background-color: #E2EBFA;\n",
              "      box-shadow: 0px 1px 2px rgba(60, 64, 67, 0.3), 0px 1px 3px 1px rgba(60, 64, 67, 0.15);\n",
              "      fill: #174EA6;\n",
              "    }\n",
              "\n",
              "    [theme=dark] .colab-df-convert {\n",
              "      background-color: #3B4455;\n",
              "      fill: #D2E3FC;\n",
              "    }\n",
              "\n",
              "    [theme=dark] .colab-df-convert:hover {\n",
              "      background-color: #434B5C;\n",
              "      box-shadow: 0px 1px 3px 1px rgba(0, 0, 0, 0.15);\n",
              "      filter: drop-shadow(0px 1px 2px rgba(0, 0, 0, 0.3));\n",
              "      fill: #FFFFFF;\n",
              "    }\n",
              "  </style>\n",
              "\n",
              "      <script>\n",
              "        const buttonEl =\n",
              "          document.querySelector('#df-8c2e9ada-cf84-4231-8caa-810488244d09 button.colab-df-convert');\n",
              "        buttonEl.style.display =\n",
              "          google.colab.kernel.accessAllowed ? 'block' : 'none';\n",
              "\n",
              "        async function convertToInteractive(key) {\n",
              "          const element = document.querySelector('#df-8c2e9ada-cf84-4231-8caa-810488244d09');\n",
              "          const dataTable =\n",
              "            await google.colab.kernel.invokeFunction('convertToInteractive',\n",
              "                                                     [key], {});\n",
              "          if (!dataTable) return;\n",
              "\n",
              "          const docLinkHtml = 'Like what you see? Visit the ' +\n",
              "            '<a target=\"_blank\" href=https://colab.research.google.com/notebooks/data_table.ipynb>data table notebook</a>'\n",
              "            + ' to learn more about interactive tables.';\n",
              "          element.innerHTML = '';\n",
              "          dataTable['output_type'] = 'display_data';\n",
              "          await google.colab.output.renderOutput(dataTable, element);\n",
              "          const docLink = document.createElement('div');\n",
              "          docLink.innerHTML = docLinkHtml;\n",
              "          element.appendChild(docLink);\n",
              "        }\n",
              "      </script>\n",
              "    </div>\n",
              "  </div>\n",
              "  "
            ]
          },
          "metadata": {},
          "execution_count": 12
        }
      ],
      "source": [
        "#import pandas module\n",
        "import pandas as pd\n",
        "from matplotlib import pyplot as plt\n",
        "\n",
        "# Load the data\n",
        "data = pd.read_csv(\"BHPData.csv\")\n",
        "\n",
        "print(data)\n",
        "data\n",
        "#data.describe()\n",
        "#data.info()\n",
        "#data.head() or data.tail()\n",
        "\n",
        "#plt.plot(data['Date'], data['Adj Close'])\n"
      ]
    },
    {
      "cell_type": "markdown",
      "source": [
        "## Daily Return of Stock Data\n",
        "\n",
        "### Daily Return formula\n",
        "\n",
        "Visiting a financial website that provides stock price information. Type a company’s name or its stock’s ticker symbol. Find in the historical prices section the stock’s closing price for any two consecutive days. For example, assume a stock’s closing price was \\$36.75 yesterday and that its closing price was \\$35.50 the previous day. Subtract the previous day’s closing price from the most recent day’s closing price. In this example, subtract \\$35.50 from \\$36.75 to get \\$1.25.\n",
        "\n",
        "Now divide the results by the previous day's closing prices to calculate the daily return.  Multiply this by 100 to convert to a percentage.  So $1.25 divided by #35.50 equals 0.035.  Multiply 0.035 by 100 to 3.5 percent.\n",
        "\n",
        "    Daily return = (Today prices - Yesterday price) / Yesterday price\n",
        "\n",
        "\n",
        "\n",
        "To find the URL, navigate to Yahoo finance, type in NAB.AX, click the 'Historical' tab.  towards the right is a download option.  right click on the download link and select 'Copy Link Address' form the popup menu.  Now paste to the URL assignment statement."
      ],
      "metadata": {
        "id": "QqhiTK-eOCYC"
      }
    },
    {
      "cell_type": "code",
      "source": [
        "#import pandas module\n",
        "import pandas as pd\n",
        "from matplotlib import pyplot as plt\n",
        "\n",
        "# Load the data\n",
        "data = pd.read_csv('BHPData.csv')\n",
        "\n",
        "\n",
        "# Calculate the return\n",
        "data['Daily_return'] = data['Adj Close'] / data['Adj Close'].shift(1)-1\n",
        "\n",
        "data\n",
        "\n",
        "# Plot the results\n",
        "plt.plot(data['Date'],data['Daily_return'])"
      ],
      "metadata": {
        "id": "L4l3gXQgOZAb",
        "outputId": "1f2cc65f-0158-4b32-9771-f975bfd3c44f",
        "colab": {
          "base_uri": "https://localhost:8080/",
          "height": 283
        }
      },
      "execution_count": 14,
      "outputs": [
        {
          "output_type": "execute_result",
          "data": {
            "text/plain": [
              "[<matplotlib.lines.Line2D at 0x7f41c5e8b810>]"
            ]
          },
          "metadata": {},
          "execution_count": 14
        },
        {
          "output_type": "display_data",
          "data": {
            "text/plain": [
              "<Figure size 432x288 with 1 Axes>"
            ],
            "image/png": "[encoded data removed]"
          },
          "metadata": {
            "needs_background": "light"
          }
        }
      ]
    },
    {
      "cell_type": "code",
      "source": [],
      "metadata": {
        "id": "2FvF1fmkOY4z"
      },
      "execution_count": null,
      "outputs": []
    },
    {
      "cell_type": "markdown",
      "metadata": {
        "id": "gTo3bmwTEAbJ"
      },
      "source": [
        "Sources:\n",
        "\n",
        "* Kaefer, F., & Kaefer, P. (2020). Introduction to Python \n",
        "Programming for Business and Social Science Applications. SAGE Publications\n",
        "\n",
        "* Tony Gaddis, Starting out with Python, 5th Edition\n",
        "\n",
        "* Deitel & Deitel, Intro to Python for Computer Science and Data Science, Global Edition\n"
      ]
    }
  ],
  "metadata": {
    "colab": {
      "name": "05_Working_with_Files.ipynb",
      "provenance": [],
      "collapsed_sections": [],
      "include_colab_link": true
    },
    "kernelspec": {
      "display_name": "Python 3",
      "name": "python3"
    },
    "language_info": {
      "name": "python"
    }
  },
  "nbformat": 4,
  "nbformat_minor": 0
}