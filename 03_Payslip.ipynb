{
  "nbformat": 4,
  "nbformat_minor": 0,
  "metadata": {
    "colab": {
      "name": "03_Payslip.ipynb",
      "provenance": [],
      "include_colab_link": true
    },
    "kernelspec": {
      "name": "python3",
      "display_name": "Python 3"
    },
    "language_info": {
      "name": "python"
    }
  },
  "cells": [
    {
      "cell_type": "markdown",
      "metadata": {
        "id": "view-in-github",
        "colab_type": "text"
      },
      "source": [
        "<a href=\"https://colab.research.google.com/github/seelisher/ISYS5002-Sem02-2022/blob/main/03_Payslip.ipynb\" target=\"_parent\"><img src=\"https://colab.research.google.com/assets/colab-badge.svg\" alt=\"Open In Colab\"/></a>"
      ]
    },
    {
      "cell_type": "markdown",
      "source": [
        "# Task: Write a program to print out a payslip for hourly paid employees. <br>\n",
        "Modify the Gross pay activity to print out a payslip for hourly paid employees.<br>Refer to week 2's Gross Pay activity.\n",
        "\n",
        "\n",
        "[What has to be on a pay slip?](https://www.fairwork.gov.au/pay-and-wages/paying-wages/pay-slips#what-has-to-be-on-a-pay-slip)\n",
        "\n",
        "[Resident tax rates 2022–23](https://www.ato.gov.au/rates/individual-income-tax-rates/)"
      ],
      "metadata": {
        "id": "2jQsL4QPFfuG"
      }
    },
    {
      "cell_type": "markdown",
      "source": [
        "Income            | Tax on this income \n",
        "------------------|----------------------\n",
        "0 – \\$18,200       | Nil\n",
        "\\$18,201 – \\$45,000 | 19 cents for each \\$1 over \\$18,200\n",
        "\\$45,001 – \\$120,000 | \\$5,092 plus 32.5 cents for each \\$1 over \\$45,000\n",
        "\\$120,001 – \\$180,000 |  \\$29,467 plus 37 cents for each \\$1 over \\$120,000\n",
        "\\$180,001 and over | \\$51,667 plus 45 cents for each \\$1 over \\$180,000"
      ],
      "metadata": {
        "id": "uAuELqWGA8OC"
      }
    },
    {
      "cell_type": "code",
      "execution_count": null,
      "metadata": {
        "id": "bKtEUVfhD1GO",
        "colab": {
          "base_uri": "https://localhost:8080/"
        },
        "outputId": "bc061254-9b59-429f-ef7c-e77bb0ccddaf"
      },
      "outputs": [
        {
          "output_type": "stream",
          "name": "stdout",
          "text": [
            "Please enter the yearly income: 20000\n",
            "The income is  20000\n",
            "The tax payable is  342.0\n",
            "The tax payable is342.0\n"
          ]
        }
      ],
      "source": [
        "#prompt user for input and then conver the input typed by the user to int data type, because\n",
        "# the input typed bu user always comes in as string, so we need to conver the input from user to integ\n",
        "# if we want to perform some numric computation on it.\n",
        "\n",
        "income = int(input(\"Please enter the yearly income: \"))\n",
        "print(\"The income is \", income)\n",
        "\n",
        "if income <= 18200:\n",
        "  print(\"No tax payable\")\n",
        "elif income > 18200 and income <= 45000:\n",
        "#elif 18200 < income <= 45000:\n",
        "  tax_payable = (income - 18200) * 0.19\n",
        "  print(\"The tax payable is \", tax_payable)\n",
        "elif 45001 <= income < 120001:\n",
        "  tax_payable = ((income - 45000) * 0.conjugate325) + 5092\n",
        "elif 120000 < income <= 180000 :\n",
        "  tax_payable = ((income - 120000) * 0.37) + 29467\n",
        "elif income > 180000:\n",
        "  tax_payable = ((income - 180000) * 0.45) + 51667\n",
        "\n",
        "print(\"The tax payable is\", tax_payable, sep ='')"
      ]
    },
    {
      "cell_type": "markdown",
      "source": [
        "Foreign residents\n",
        "These rates apply to individuals who are foreign residents for tax purposes.\n",
        "\n",
        "Foreign resident tax rates 2022–23\n",
        "Foreign resident tax rates 2022–23\n",
        "\n",
        "Taxable income.    |    Tax on this income\n",
        "-------------------|----------------------\n",
        "\n",
        "0 – $120,000    |   32.5 cents for each   $1\n",
        "\n",
        "$120,001 – $180,000.   |   $39,000 plus 37 cents for each  $1 over  $120,000\n",
        "\n",
        "$180,001 and over.   |    $61,200 plus 45 cents for each  $1 over   $180,000\n",
        "\n"
      ],
      "metadata": {
        "id": "97UGd9pH_NkC"
      }
    },
    {
      "cell_type": "code",
      "source": [
        "income = int(input(\"Please enter the yearly income: \"))\n",
        "print(\"The income is \", income)\n",
        "\n",
        "if income <= 120000:\n",
        "  tax_payable = (income - 120000) * 0.325\n",
        "  print(\"The tax payable is \", tax_payable)\n",
        "elif income > 120001 and income <= 180000:\n",
        "  tax_payable = ((income - 120000) * 0.37) + 39000\n",
        "  print(\"The tax payable is \", tax_payable)\n",
        "elif income > 180001:\n",
        "  tax_payable = ((income - 180000) * 0.45) + 61200\n",
        "  \n",
        "print(\"The tax payable is\", tax_payable, sep ='')\n"
      ],
      "metadata": {
        "id": "KsNzMvCal-e6",
        "colab": {
          "base_uri": "https://localhost:8080/"
        },
        "outputId": "c0efc82f-6c8f-4bcb-ab4c-7c59ca675670"
      },
      "execution_count": null,
      "outputs": [
        {
          "output_type": "stream",
          "name": "stdout",
          "text": [
            "Please enter the yearly income: 160000\n",
            "The income is  160000\n",
            "The tax payable is  53800.0\n",
            "The tax payable is53800.0\n"
          ]
        }
      ]
    },
    {
      "cell_type": "markdown",
      "source": [
        "Working holiday makers\n",
        "These rates apply to working holiday maker income if you are either:\n",
        "\n",
        "a foreign resident\n",
        "Australian resident who is not from a non-discriminatory article (NDA) country.\n",
        "You are a working holiday maker if you have a visa subclass:\n",
        "\n",
        "417 (Working Holiday)\n",
        "462 (Work and Holiday).\n",
        "Working holiday maker tax rates 2022–23\n",
        "Working holiday maker tax rates 2022–23\n",
        "\n",
        "Taxable income          |.         Tax on this income\n",
        "\n",
        "0 – $45,000          |.         15%\n",
        "\n",
        "$45,001 – $120,000          |.         $6,750 plus 32.5 cents for each $1 over $45,000\n",
        "\n",
        "$120,001 – $180,000          |.         $31,125 plus 37 cents for each $1 over $120,000\n",
        "\n",
        "$180,001 and over          |.         $53,325 plus 45 cents for each $1 over $180,000\n",
        "\n"
      ],
      "metadata": {
        "id": "GDhFuuazDDD9"
      }
    },
    {
      "cell_type": "code",
      "source": [
        "income = int(input(\"Please enter the yearly income: \"))\n",
        "print(\"The income is \", income)\n",
        "\n",
        "if income <= 45000:\n",
        "  tax_payable = (income - 45000) * 0.15\n",
        "  print(\"The tax payable is \", tax_payable)\n",
        "elif income > 45001 and income <= 120000:\n",
        "  tax_payable = ((income - 45000) * 0.325) + 6750\n",
        "  print(\"The tax payable is \", tax_payable)\n",
        "elif income > 120001 and income <= 180000:\n",
        "  tax_payable = ((income - 120000) * 0.37) + 31125\n",
        "elif income > 180001:\n",
        "  tax_payable = ((income - 180000) * 0.45) + 53325\n",
        "  \n",
        "print(\"The tax payable is\", tax_payable, sep ='')"
      ],
      "metadata": {
        "colab": {
          "base_uri": "https://localhost:8080/"
        },
        "id": "bGTwkDT-DXS9",
        "outputId": "e84781b9-f1fd-4248-8215-e35879c1846c"
      },
      "execution_count": null,
      "outputs": [
        {
          "output_type": "stream",
          "name": "stdout",
          "text": [
            "Please enter the yearly income: 190000\n",
            "The income is  190000\n",
            "The tax payable is57825.0\n"
          ]
        }
      ]
    }
  ]
}